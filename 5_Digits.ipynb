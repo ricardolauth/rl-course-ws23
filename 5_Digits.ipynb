{
 "cells": [
  {
   "cell_type": "markdown",
   "metadata": {},
   "source": [
    "# Logistische Regression: Digit Classification"
   ]
  },
  {
   "cell_type": "markdown",
   "metadata": {},
   "source": [
    "In diesem Notebook wollen wir anhand des Digits-Datensatzes Vorhersagen mit Hilfe einer logistischen Regression machen. In diesem Datensatz ist jeder Datenpunkt ein kleines Bild mit 8x8 Pixeln und stellt eine Ziffer zwischen 0 und 9 dar. Das Vorhersageproblem besteht darin, anhand der 64 Pixelwerte vorherzusagen um welche Zahl es sich handelt.\n",
    "Eine nähere Beschreibung der Daten findet sich [hier](https://scikit-learn.org/stable/datasets/toy_dataset.html#digits-dataset)."
   ]
  },
  {
   "cell_type": "markdown",
   "metadata": {},
   "source": [
    "### Laden des Digits-Datensatzes"
   ]
  },
  {
   "cell_type": "markdown",
   "metadata": {},
   "source": [
    "Zuerst Laden wir den `Digits`-Datensatz:"
   ]
  },
  {
   "cell_type": "code",
   "execution_count": 1,
   "metadata": {},
   "outputs": [
    {
     "name": "stdout",
     "output_type": "stream",
     "text": [
      "(1797, 65)\n"
     ]
    },
    {
     "data": {
      "text/html": [
       "<div>\n",
       "<style scoped>\n",
       "    .dataframe tbody tr th:only-of-type {\n",
       "        vertical-align: middle;\n",
       "    }\n",
       "\n",
       "    .dataframe tbody tr th {\n",
       "        vertical-align: top;\n",
       "    }\n",
       "\n",
       "    .dataframe thead th {\n",
       "        text-align: right;\n",
       "    }\n",
       "</style>\n",
       "<table border=\"1\" class=\"dataframe\">\n",
       "  <thead>\n",
       "    <tr style=\"text-align: right;\">\n",
       "      <th></th>\n",
       "      <th>pixel_0_0</th>\n",
       "      <th>pixel_0_1</th>\n",
       "      <th>pixel_0_2</th>\n",
       "      <th>pixel_0_3</th>\n",
       "      <th>pixel_0_4</th>\n",
       "      <th>pixel_0_5</th>\n",
       "      <th>pixel_0_6</th>\n",
       "      <th>pixel_0_7</th>\n",
       "      <th>pixel_1_0</th>\n",
       "      <th>pixel_1_1</th>\n",
       "      <th>...</th>\n",
       "      <th>pixel_6_7</th>\n",
       "      <th>pixel_7_0</th>\n",
       "      <th>pixel_7_1</th>\n",
       "      <th>pixel_7_2</th>\n",
       "      <th>pixel_7_3</th>\n",
       "      <th>pixel_7_4</th>\n",
       "      <th>pixel_7_5</th>\n",
       "      <th>pixel_7_6</th>\n",
       "      <th>pixel_7_7</th>\n",
       "      <th>label</th>\n",
       "    </tr>\n",
       "  </thead>\n",
       "  <tbody>\n",
       "    <tr>\n",
       "      <th>0</th>\n",
       "      <td>0.0</td>\n",
       "      <td>0.0</td>\n",
       "      <td>5.0</td>\n",
       "      <td>13.0</td>\n",
       "      <td>9.0</td>\n",
       "      <td>1.0</td>\n",
       "      <td>0.0</td>\n",
       "      <td>0.0</td>\n",
       "      <td>0.0</td>\n",
       "      <td>0.0</td>\n",
       "      <td>...</td>\n",
       "      <td>0.0</td>\n",
       "      <td>0.0</td>\n",
       "      <td>0.0</td>\n",
       "      <td>6.0</td>\n",
       "      <td>13.0</td>\n",
       "      <td>10.0</td>\n",
       "      <td>0.0</td>\n",
       "      <td>0.0</td>\n",
       "      <td>0.0</td>\n",
       "      <td>0</td>\n",
       "    </tr>\n",
       "    <tr>\n",
       "      <th>1</th>\n",
       "      <td>0.0</td>\n",
       "      <td>0.0</td>\n",
       "      <td>0.0</td>\n",
       "      <td>12.0</td>\n",
       "      <td>13.0</td>\n",
       "      <td>5.0</td>\n",
       "      <td>0.0</td>\n",
       "      <td>0.0</td>\n",
       "      <td>0.0</td>\n",
       "      <td>0.0</td>\n",
       "      <td>...</td>\n",
       "      <td>0.0</td>\n",
       "      <td>0.0</td>\n",
       "      <td>0.0</td>\n",
       "      <td>0.0</td>\n",
       "      <td>11.0</td>\n",
       "      <td>16.0</td>\n",
       "      <td>10.0</td>\n",
       "      <td>0.0</td>\n",
       "      <td>0.0</td>\n",
       "      <td>1</td>\n",
       "    </tr>\n",
       "    <tr>\n",
       "      <th>2</th>\n",
       "      <td>0.0</td>\n",
       "      <td>0.0</td>\n",
       "      <td>0.0</td>\n",
       "      <td>4.0</td>\n",
       "      <td>15.0</td>\n",
       "      <td>12.0</td>\n",
       "      <td>0.0</td>\n",
       "      <td>0.0</td>\n",
       "      <td>0.0</td>\n",
       "      <td>0.0</td>\n",
       "      <td>...</td>\n",
       "      <td>0.0</td>\n",
       "      <td>0.0</td>\n",
       "      <td>0.0</td>\n",
       "      <td>0.0</td>\n",
       "      <td>3.0</td>\n",
       "      <td>11.0</td>\n",
       "      <td>16.0</td>\n",
       "      <td>9.0</td>\n",
       "      <td>0.0</td>\n",
       "      <td>2</td>\n",
       "    </tr>\n",
       "    <tr>\n",
       "      <th>3</th>\n",
       "      <td>0.0</td>\n",
       "      <td>0.0</td>\n",
       "      <td>7.0</td>\n",
       "      <td>15.0</td>\n",
       "      <td>13.0</td>\n",
       "      <td>1.0</td>\n",
       "      <td>0.0</td>\n",
       "      <td>0.0</td>\n",
       "      <td>0.0</td>\n",
       "      <td>8.0</td>\n",
       "      <td>...</td>\n",
       "      <td>0.0</td>\n",
       "      <td>0.0</td>\n",
       "      <td>0.0</td>\n",
       "      <td>7.0</td>\n",
       "      <td>13.0</td>\n",
       "      <td>13.0</td>\n",
       "      <td>9.0</td>\n",
       "      <td>0.0</td>\n",
       "      <td>0.0</td>\n",
       "      <td>3</td>\n",
       "    </tr>\n",
       "    <tr>\n",
       "      <th>4</th>\n",
       "      <td>0.0</td>\n",
       "      <td>0.0</td>\n",
       "      <td>0.0</td>\n",
       "      <td>1.0</td>\n",
       "      <td>11.0</td>\n",
       "      <td>0.0</td>\n",
       "      <td>0.0</td>\n",
       "      <td>0.0</td>\n",
       "      <td>0.0</td>\n",
       "      <td>0.0</td>\n",
       "      <td>...</td>\n",
       "      <td>0.0</td>\n",
       "      <td>0.0</td>\n",
       "      <td>0.0</td>\n",
       "      <td>0.0</td>\n",
       "      <td>2.0</td>\n",
       "      <td>16.0</td>\n",
       "      <td>4.0</td>\n",
       "      <td>0.0</td>\n",
       "      <td>0.0</td>\n",
       "      <td>4</td>\n",
       "    </tr>\n",
       "  </tbody>\n",
       "</table>\n",
       "<p>5 rows × 65 columns</p>\n",
       "</div>"
      ],
      "text/plain": [
       "   pixel_0_0  pixel_0_1  pixel_0_2  pixel_0_3  pixel_0_4  pixel_0_5  \\\n",
       "0        0.0        0.0        5.0       13.0        9.0        1.0   \n",
       "1        0.0        0.0        0.0       12.0       13.0        5.0   \n",
       "2        0.0        0.0        0.0        4.0       15.0       12.0   \n",
       "3        0.0        0.0        7.0       15.0       13.0        1.0   \n",
       "4        0.0        0.0        0.0        1.0       11.0        0.0   \n",
       "\n",
       "   pixel_0_6  pixel_0_7  pixel_1_0  pixel_1_1  ...  pixel_6_7  pixel_7_0  \\\n",
       "0        0.0        0.0        0.0        0.0  ...        0.0        0.0   \n",
       "1        0.0        0.0        0.0        0.0  ...        0.0        0.0   \n",
       "2        0.0        0.0        0.0        0.0  ...        0.0        0.0   \n",
       "3        0.0        0.0        0.0        8.0  ...        0.0        0.0   \n",
       "4        0.0        0.0        0.0        0.0  ...        0.0        0.0   \n",
       "\n",
       "   pixel_7_1  pixel_7_2  pixel_7_3  pixel_7_4  pixel_7_5  pixel_7_6  \\\n",
       "0        0.0        6.0       13.0       10.0        0.0        0.0   \n",
       "1        0.0        0.0       11.0       16.0       10.0        0.0   \n",
       "2        0.0        0.0        3.0       11.0       16.0        9.0   \n",
       "3        0.0        7.0       13.0       13.0        9.0        0.0   \n",
       "4        0.0        0.0        2.0       16.0        4.0        0.0   \n",
       "\n",
       "   pixel_7_7  label  \n",
       "0        0.0      0  \n",
       "1        0.0      1  \n",
       "2        0.0      2  \n",
       "3        0.0      3  \n",
       "4        0.0      4  \n",
       "\n",
       "[5 rows x 65 columns]"
      ]
     },
     "execution_count": 1,
     "metadata": {},
     "output_type": "execute_result"
    }
   ],
   "source": [
    "import pandas as pd\n",
    "data = pd.read_csv(\"data/digits.csv\")\n",
    "print(data.shape)\n",
    "data.head()"
   ]
  },
  {
   "cell_type": "markdown",
   "metadata": {},
   "source": [
    "Ein Datenpunkt hat 64 Features. Jedes Feature steht für ein Pixel in einem 8x8 Bild und hat einen Wert zwischen `0` und `16`, welcher der Graustufe des Pixels entspricht. Für den Wert `0` ist das Pixel komplett schwarz, während ein Wert von `16` einem weißen Pixel entspricht. Das Label eines Datenpunkts ist die abgebildete Ziffer.\n",
    "\n",
    "Die ersten 8 Features entsprechen den Pixeln der ersten Reihe des Bildes, die zweiten 8 Features der zweiten Reihe des Bildes usw.\n",
    "Um das besser zu veranschaulichen können wir die Daten des ersten Datenpunktes in eine 8x8-Form bringen:"
   ]
  },
  {
   "cell_type": "code",
   "execution_count": 2,
   "metadata": {},
   "outputs": [
    {
     "data": {
      "text/plain": [
       "array([[ 0.,  0.,  5., 13.,  9.,  1.,  0.,  0.],\n",
       "       [ 0.,  0., 13., 15., 10., 15.,  5.,  0.],\n",
       "       [ 0.,  3., 15.,  2.,  0., 11.,  8.,  0.],\n",
       "       [ 0.,  4., 12.,  0.,  0.,  8.,  8.,  0.],\n",
       "       [ 0.,  5.,  8.,  0.,  0.,  9.,  8.,  0.],\n",
       "       [ 0.,  4., 11.,  0.,  1., 12.,  7.,  0.],\n",
       "       [ 0.,  2., 14.,  5., 10., 12.,  0.,  0.],\n",
       "       [ 0.,  0.,  6., 13., 10.,  0.,  0.,  0.]])"
      ]
     },
     "execution_count": 2,
     "metadata": {},
     "output_type": "execute_result"
    }
   ],
   "source": [
    "import numpy as np\n",
    "data_no_label = data.drop([\"label\"], axis=1)\n",
    "line_1 = data_no_label.iloc[0].values\n",
    "np.reshape(line_1, (8,8))"
   ]
  },
  {
   "cell_type": "markdown",
   "metadata": {},
   "source": [
    "Um uns testweise ein paar Bilder anzuschauen können wir ein paar zufällig ausgewählte Datenpunkte mit Hilfe der `matplotlib`-Library plotten:"
   ]
  },
  {
   "cell_type": "code",
   "execution_count": 3,
   "metadata": {},
   "outputs": [
    {
     "data": {
      "image/png": "[encoded data removed]",
      "text/plain": [
       "<Figure size 1500x100 with 15 Axes>"
      ]
     },
     "metadata": {},
     "output_type": "display_data"
    }
   ],
   "source": [
    "import numpy as np \n",
    "import matplotlib.pyplot as plt\n",
    "import random\n",
    "\n",
    "no_images = 15\n",
    "\n",
    "plt.figure(figsize=(no_images, 1))\n",
    "for index in range(0, no_images):\n",
    "    \n",
    "    # wähle zufälligen Datenpunkt aus\n",
    "    image_index = random.randint(0, data.shape[0])\n",
    "    features = data_no_label.iloc[image_index].values\n",
    "    features_8x8 = np.reshape(features, (8,8))\n",
    "    label = data.iloc[image_index][\"label\"]\n",
    "    \n",
    "    # plotte das 8x8 Bild\n",
    "    plt.subplot(1, no_images, index + 1)\n",
    "    plt.imshow(features_8x8, cmap=plt.cm.gray)\n",
    "    plt.title(label, fontsize = 20)"
   ]
  },
  {
   "cell_type": "markdown",
   "metadata": {},
   "source": [
    "### Binäre Klassifikation"
   ]
  },
  {
   "cell_type": "markdown",
   "metadata": {},
   "source": [
    "Ziel ist es jetzt mit Hilfe der Features (Pixelwerte) das Label (die dargestellte Ziffer) vorherzusagen. Dazu wollen wir uns im ersten Schritt auf eine einfache binäre Klassifizierung beschränken und Vorhersagen ob auf dem Bild die Ziffer `0` zu sehen ist."
   ]
  },
  {
   "cell_type": "markdown",
   "metadata": {},
   "source": [
    "Im ersten Schritt unterteilen wir die Daten in Trainings- und Testdaten:"
   ]
  },
  {
   "cell_type": "code",
   "execution_count": 4,
   "metadata": {},
   "outputs": [
    {
     "name": "stdout",
     "output_type": "stream",
     "text": [
      "Trainingsdatenpunkte: 1437\n",
      "Testdatenpunkte: 360\n"
     ]
    }
   ],
   "source": [
    "from sklearn.model_selection import train_test_split\n",
    "X_train, X_test, y_train, y_test = train_test_split(data_no_label, data[\"label\"], test_size=0.2, random_state=0)\n",
    "print(\"Trainingsdatenpunkte:\", len(X_train))\n",
    "print(\"Testdatenpunkte:\", len(X_test))"
   ]
  },
  {
   "cell_type": "markdown",
   "metadata": {},
   "source": [
    "Für die Klassifierzung hinsichtlich der Ziffer `0` müssen wir das Label jedes Datenpunktes umwandeln, so dass gilt:\n",
    "- `Label \"1\"`: Die Ziffer ist eine `0`.\n",
    "- `Label \"0\"`: Die Ziffer ist keine `0` (d.h. alle andere Ziffern).\n",
    "\n",
    "Diese machen wir über folgende Funktion:"
   ]
  },
  {
   "cell_type": "code",
   "execution_count": 5,
   "metadata": {},
   "outputs": [
    {
     "name": "stdout",
     "output_type": "stream",
     "text": [
      "Alte Labels: [6 5 3 4 4 4 8 8 7 0 9 6 3 5 2 3 0 8 3 3]\n",
      "Neue Labels: [0 0 0 0 0 0 0 0 0 1 0 0 0 0 0 0 1 0 0 0]\n"
     ]
    }
   ],
   "source": [
    "def label_to_binary(digit, labels):\n",
    "    binary_labels = []\n",
    "    for label in labels:\n",
    "        if(label == digit):\n",
    "            binary_labels.append(1)\n",
    "        else:\n",
    "            binary_labels.append(0)\n",
    "    return np.array(binary_labels)\n",
    "    \n",
    "y_train_0 = label_to_binary(0, y_train)\n",
    "y_test_0 = label_to_binary(0, y_test)\n",
    "\n",
    "print(\"Alte Labels:\", y_train[:20].values)\n",
    "print(\"Neue Labels:\", y_train_0[:20])"
   ]
  },
  {
   "cell_type": "markdown",
   "metadata": {},
   "source": [
    "Jetzt können wir das logistische Regressionsmodell trainieren."
   ]
  },
  {
   "cell_type": "code",
   "execution_count": 6,
   "metadata": {},
   "outputs": [],
   "source": [
    "from sklearn.linear_model import LogisticRegression\n",
    "logisticRegr = LogisticRegression(max_iter=1000) # Gradient Descent mit max. 1000 Schritten\n",
    "logisticRegr.fit(X_train, y_train_0);"
   ]
  },
  {
   "cell_type": "markdown",
   "metadata": {},
   "source": [
    "### Testen des Regressionsmodells"
   ]
  },
  {
   "cell_type": "markdown",
   "metadata": {},
   "source": [
    "Schauen wir uns nun zwei Beispiele aus den Testdaten und die dazugehörige Vorhersage an:"
   ]
  },
  {
   "cell_type": "code",
   "execution_count": 7,
   "metadata": {},
   "outputs": [
    {
     "name": "stdout",
     "output_type": "stream",
     "text": [
      "Vorhersage auf Datenpunkt 0 ist: [0]\n"
     ]
    }
   ],
   "source": [
    "data_index = 0\n",
    "data_point = X_test.iloc[[data_index]]\n",
    "prediction = logisticRegr.predict(data_point)\n",
    "print(\"Vorhersage auf Datenpunkt\", data_index, \"ist:\", prediction)"
   ]
  },
  {
   "cell_type": "markdown",
   "metadata": {},
   "source": [
    "Das Modell sagt die Klasse `0` vorraus (d.h. dass nicht die Ziffer 0 abgebildet ist). Schauen wir uns das richtige Label und den zugehörigen Plot an."
   ]
  },
  {
   "cell_type": "code",
   "execution_count": 8,
   "metadata": {},
   "outputs": [
    {
     "data": {
      "text/plain": [
       "Text(0.5, 1.0, 'Ziffer: 2')"
      ]
     },
     "execution_count": 8,
     "metadata": {},
     "output_type": "execute_result"
    },
    {
     "data": {
      "image/png": "[encoded data removed]",
      "text/plain": [
       "<Figure size 640x480 with 1 Axes>"
      ]
     },
     "metadata": {},
     "output_type": "display_data"
    }
   ],
   "source": [
    "plt.plot()\n",
    "plt.imshow(np.reshape(data_point.values, (8,8)), cmap=plt.cm.gray)\n",
    "plt.title(f'Ziffer: {y_test.iloc[data_index]}', fontsize = 20)"
   ]
  },
  {
   "cell_type": "markdown",
   "metadata": {},
   "source": [
    "Die Vorhersage ist richtig (es ist nicht die Ziffer 0 auf dem Bild dargestellt).\n",
    "Schauen wir uns ein zweites Beispiel an."
   ]
  },
  {
   "cell_type": "code",
   "execution_count": 9,
   "metadata": {},
   "outputs": [
    {
     "name": "stdout",
     "output_type": "stream",
     "text": [
      "Vorhersage auf Datenpunkt 17 ist: [1]\n"
     ]
    }
   ],
   "source": [
    "data_index = 17\n",
    "data_point = X_test.iloc[[data_index]]\n",
    "prediction = logisticRegr.predict(data_point)\n",
    "print(\"Vorhersage auf Datenpunkt\", data_index, \"ist:\", prediction)"
   ]
  },
  {
   "cell_type": "code",
   "execution_count": 10,
   "metadata": {},
   "outputs": [
    {
     "data": {
      "text/plain": [
       "Text(0.5, 1.0, 'Ziffer: 0')"
      ]
     },
     "execution_count": 10,
     "metadata": {},
     "output_type": "execute_result"
    },
    {
     "data": {
      "image/png": "[encoded data removed]",
      "text/plain": [
       "<Figure size 640x480 with 1 Axes>"
      ]
     },
     "metadata": {},
     "output_type": "display_data"
    }
   ],
   "source": [
    "plt.plot()\n",
    "plt.imshow(np.reshape(data_point.values, (8,8)), cmap=plt.cm.gray)\n",
    "plt.title(f\"Ziffer: {y_test.iloc[data_index]}\", fontsize = 20)"
   ]
  },
  {
   "cell_type": "markdown",
   "metadata": {},
   "source": [
    "In diesem Fall sagt das Modell die Klasse `1` (= es ist eine Null auf dem Bild zu sehen) voraus und es ist auch tatsächlich eine `0` auf dem Bild, d.h. das Modell liegt richtig. \n",
    "\n",
    "Schauen wir uns die Performance auf allen Testdaten an. Dazu mache wir zuerst eine Vorhersage mit dem Modell auf allen Testdaten:"
   ]
  },
  {
   "cell_type": "code",
   "execution_count": 11,
   "metadata": {},
   "outputs": [],
   "source": [
    "predictions = logisticRegr.predict(X_test)"
   ]
  },
  {
   "cell_type": "markdown",
   "metadata": {},
   "source": [
    "Im nächsten Schritt vergleich wir diese Vorhersagen mit dem wahren Label und berechnen die Accuracy:"
   ]
  },
  {
   "cell_type": "code",
   "execution_count": 12,
   "metadata": {},
   "outputs": [
    {
     "data": {
      "text/plain": [
       "0.9944444444444445"
      ]
     },
     "execution_count": 12,
     "metadata": {},
     "output_type": "execute_result"
    }
   ],
   "source": [
    "from sklearn.metrics import accuracy_score\n",
    "accuracy_score(y_test_0, predictions)"
   ]
  },
  {
   "cell_type": "markdown",
   "metadata": {},
   "source": [
    "Die Accuracy liegt bei diesem einfachen Modell bei 99 Prozent. Schauen wir uns Precision und Recall an."
   ]
  },
  {
   "cell_type": "code",
   "execution_count": 13,
   "metadata": {},
   "outputs": [
    {
     "data": {
      "text/plain": [
       "0.9310344827586207"
      ]
     },
     "execution_count": 13,
     "metadata": {},
     "output_type": "execute_result"
    }
   ],
   "source": [
    "from sklearn.metrics import precision_score\n",
    "precision_score(y_test_0, predictions)"
   ]
  },
  {
   "cell_type": "code",
   "execution_count": 14,
   "metadata": {},
   "outputs": [
    {
     "data": {
      "text/plain": [
       "1.0"
      ]
     },
     "execution_count": 14,
     "metadata": {},
     "output_type": "execute_result"
    }
   ],
   "source": [
    "from sklearn.metrics import recall_score\n",
    "recall_score(y_test_0, predictions)"
   ]
  },
  {
   "cell_type": "markdown",
   "metadata": {},
   "source": [
    "Das Modell erkennt alle Nullen im Testdatensatz und ist dabei 93% präzise.\n",
    "Es scheint also, dass das Problem eine Null in diesem Datensatz zu erkennen nicht sehr schwierig ist.\n",
    "\n",
    "Da wir jedoch keine 100% Precision erreicht haben, macht das Modell noch ein paar Fehler. Schauen wir uns exemplarisch einen Fehler an:"
   ]
  },
  {
   "cell_type": "code",
   "execution_count": 15,
   "metadata": {},
   "outputs": [
    {
     "name": "stdout",
     "output_type": "stream",
     "text": [
      "Vorhersage auf Datenpunkt 117 ist: [1]\n"
     ]
    }
   ],
   "source": [
    "data_index = 117\n",
    "data_point = X_test.iloc[[data_index]]\n",
    "prediction = logisticRegr.predict(data_point)\n",
    "print(\"Vorhersage auf Datenpunkt\", data_index, \"ist:\", prediction)"
   ]
  },
  {
   "cell_type": "code",
   "execution_count": 16,
   "metadata": {},
   "outputs": [
    {
     "data": {
      "text/plain": [
       "Text(0.5, 1.0, 'Ziffer: 2')"
      ]
     },
     "execution_count": 16,
     "metadata": {},
     "output_type": "execute_result"
    },
    {
     "data": {
      "image/png": "[encoded data removed]",
      "text/plain": [
       "<Figure size 640x480 with 1 Axes>"
      ]
     },
     "metadata": {},
     "output_type": "display_data"
    }
   ],
   "source": [
    "plt.plot()\n",
    "plt.imshow(np.reshape(data_point.values, (8,8)), cmap=plt.cm.gray)\n",
    "plt.title(\"Ziffer: \" + str(y_test.iloc[data_index]), fontsize = 20)"
   ]
  },
  {
   "cell_type": "markdown",
   "metadata": {},
   "source": [
    "Dieses Zwei hält das Modell fälschlicherweiße für eine Null."
   ]
  },
  {
   "cell_type": "markdown",
   "metadata": {},
   "source": [
    "### Feature Importance"
   ]
  },
  {
   "cell_type": "markdown",
   "metadata": {},
   "source": [
    "Beim gerade trainierten Modell können wir uns jetzt noch die Feature-Importance anschauen, d.h. die Gewichte welche das Modell für die einzelnen Pixel gelernt hat anschauen."
   ]
  },
  {
   "cell_type": "code",
   "execution_count": 17,
   "metadata": {},
   "outputs": [],
   "source": [
    "weights = logisticRegr.coef_[0]"
   ]
  },
  {
   "cell_type": "code",
   "execution_count": 18,
   "metadata": {},
   "outputs": [
    {
     "data": {
      "text/plain": [
       "array([[ 0.   , -0.027, -0.041,  0.112, -0.034, -0.256, -0.225, -0.023],\n",
       "       [-0.   , -0.088, -0.043,  0.265,  0.195,  0.304, -0.008, -0.017],\n",
       "       [ 0.   ,  0.12 ,  0.161, -0.083, -0.353,  0.287,  0.05 , -0.006],\n",
       "       [-0.   ,  0.084, -0.008, -0.162, -0.57 ,  0.055,  0.056, -0.001],\n",
       "       [ 0.   ,  0.131,  0.108, -0.116, -0.581,  0.073,  0.   ,  0.   ],\n",
       "       [-0.002, -0.033,  0.273, -0.312, -0.181,  0.022,  0.126, -0.   ],\n",
       "       [-0.005, -0.068,  0.078,  0.014,  0.086,  0.061, -0.04 , -0.013],\n",
       "       [ 0.   , -0.032, -0.202,  0.226, -0.279, -0.122, -0.083, -0.063]])"
      ]
     },
     "execution_count": 18,
     "metadata": {},
     "output_type": "execute_result"
    }
   ],
   "source": [
    "weights_8x8 = np.round(np.reshape(weights, (8,8)), decimals=3)\n",
    "weights_8x8"
   ]
  },
  {
   "cell_type": "code",
   "execution_count": 19,
   "metadata": {},
   "outputs": [
    {
     "data": {
      "text/plain": [
       "<matplotlib.image.AxesImage at 0x1b6122f8d90>"
      ]
     },
     "execution_count": 19,
     "metadata": {},
     "output_type": "execute_result"
    },
    {
     "data": {
      "image/png": "[encoded data removed]",
      "text/plain": [
       "<Figure size 640x480 with 1 Axes>"
      ]
     },
     "metadata": {},
     "output_type": "display_data"
    }
   ],
   "source": [
    "plt.imshow(weights_8x8)"
   ]
  },
  {
   "cell_type": "markdown",
   "metadata": {},
   "source": [
    "In diesem Plot stehen grüne Fläche für ein Gewicht in der Nähe von 0, d.h. diese Pixel sind relativ irrelevant für die Klassifikation des Modells.\n",
    "Gelbe Flächen stehen für positive Gewichte, d.h. ein positiver Pixelwert an dieser Stelle lässt das Modell eher in Richtung 0 tendieren.\n",
    "Dunkle Flächen stehen für negative Gewichte, d.h. ein positiver Pixelwert an dieser Stelle lässt das Modell eher in Richting \"keine 0\" tendieren. "
   ]
  },
  {
   "cell_type": "markdown",
   "metadata": {},
   "source": [
    "### Multiklassen-Klassifikation"
   ]
  },
  {
   "cell_type": "markdown",
   "metadata": {},
   "source": [
    "Im nächsten Schritt erweitern wir das Vorhersagemodell dahingehend, dass wir alle Ziffern erkennen wollen. Dies geschieht mit einer multinominalen logistischen Regression.\n",
    "\n",
    "Dazu trainieren wir individuelle Modell für jede Ziffer von 0 bis 9."
   ]
  },
  {
   "cell_type": "code",
   "execution_count": 20,
   "metadata": {},
   "outputs": [],
   "source": [
    "models = []\n",
    "for i in range(0,10):\n",
    "    logisticRegr = LogisticRegression(max_iter=1000)\n",
    "    y_train_binary = label_to_binary(i, y_train)\n",
    "    logisticRegr.fit(X_train, y_train_binary)\n",
    "    models.append(logisticRegr)"
   ]
  },
  {
   "cell_type": "markdown",
   "metadata": {},
   "source": [
    "Diese Modell nutzen wir jetzt bei der Vorhersage, in dem wir mit jedem Modell eine Vorhersage auf ein gegebens Bild machen und uns für die Vorhersage mit der höchsten Wahrscheinlichkeit entscheiden. Dazu brauchen wir (anstelle der vorhergesagten Klasse) die Vorhersagewahrscheinlichkeit eines Modells. Generell können wir mit der Methode `predict` direkt die Vorhersage der Klasse bekommen, während die `predict_proba`-Methode uns die Wahrscheinlichkeiten liefert:"
   ]
  },
  {
   "cell_type": "code",
   "execution_count": 21,
   "metadata": {},
   "outputs": [
    {
     "name": "stdout",
     "output_type": "stream",
     "text": [
      "Vorhergesagte Klasse: [0]\n",
      "[[9.99999999e-01 8.16379409e-10]]\n",
      "Wahrscheinlichkeit für Klasse 1: 8.163794091374669e-10\n"
     ]
    }
   ],
   "source": [
    "data_point = X_test.iloc[[0]]\n",
    "predicted_class = logisticRegr.predict(data_point)\n",
    "print(\"Vorhergesagte Klasse:\", predicted_class)\n",
    "\n",
    "probability = logisticRegr.predict_proba(data_point)\n",
    "print(probability)\n",
    "print(\"Wahrscheinlichkeit für Klasse 1:\", probability[0][1])"
   ]
  },
  {
   "cell_type": "markdown",
   "metadata": {},
   "source": [
    "Mit den trainierten Einzelmodellen können wir nun für einen Datenpunkt vorhersagen mit allen 10 Modell machen:"
   ]
  },
  {
   "cell_type": "code",
   "execution_count": 22,
   "metadata": {},
   "outputs": [
    {
     "name": "stdout",
     "output_type": "stream",
     "text": [
      "Vorhersage mit Modell für Ziffer 0 ist 0.0012083700125669864\n",
      "Vorhersage mit Modell für Ziffer 1 ist 1.8872959498048354e-10\n",
      "Vorhersage mit Modell für Ziffer 2 ist 3.313641513570326e-07\n",
      "Vorhersage mit Modell für Ziffer 3 ist 1.0402818826420035e-06\n",
      "Vorhersage mit Modell für Ziffer 4 ist 6.548398425024733e-12\n",
      "Vorhersage mit Modell für Ziffer 5 ist 1.1381264431792667e-06\n",
      "Vorhersage mit Modell für Ziffer 6 ist 1.2896003181163165e-15\n",
      "Vorhersage mit Modell für Ziffer 7 ist 2.0436888820904227e-09\n",
      "Vorhersage mit Modell für Ziffer 8 ist 0.04650674217884437\n",
      "Vorhersage mit Modell für Ziffer 9 ist 0.99999999478563\n"
     ]
    }
   ],
   "source": [
    "data_index = 34\n",
    "predictions = []\n",
    "for index, model in enumerate(models):\n",
    "    data_point = X_test.iloc[[data_index]]\n",
    "    prediction = model.predict_proba(data_point)[0][1]\n",
    "    print(\"Vorhersage mit Modell für Ziffer\", index, \"ist\", prediction)\n",
    "    predictions.append(prediction)"
   ]
  },
  {
   "cell_type": "markdown",
   "metadata": {},
   "source": [
    "Und die Klasse vorhersagen welche die höchste Wahrscheinlichkeit hat:"
   ]
  },
  {
   "cell_type": "code",
   "execution_count": 23,
   "metadata": {},
   "outputs": [
    {
     "name": "stdout",
     "output_type": "stream",
     "text": [
      "Vorhergesagte Klasse: 9\n"
     ]
    }
   ],
   "source": [
    "prediction = predictions.index(max(predictions))\n",
    "print(\"Vorhergesagte Klasse:\", prediction)"
   ]
  },
  {
   "cell_type": "code",
   "execution_count": 24,
   "metadata": {},
   "outputs": [
    {
     "data": {
      "text/plain": [
       "Text(0.5, 1.0, 'Ziffer: 9')"
      ]
     },
     "execution_count": 24,
     "metadata": {},
     "output_type": "execute_result"
    },
    {
     "data": {
      "image/png": "[encoded data removed]",
      "text/plain": [
       "<Figure size 640x480 with 1 Axes>"
      ]
     },
     "metadata": {},
     "output_type": "display_data"
    }
   ],
   "source": [
    "plt.plot()\n",
    "plt.imshow(np.reshape(X_test.iloc[data_index].values, (8,8)), cmap=plt.cm.gray)\n",
    "plt.title(f\"Ziffer: {y_test.iloc[data_index]}\", fontsize = 20)"
   ]
  },
  {
   "cell_type": "markdown",
   "metadata": {},
   "source": [
    "Wie wir sehen stimmt die vorhergesagte Ziffer in diesem Fall mit der tatsächlichen Ziffer überein. Im nächsten Schritt schauen wir uns die Vorhersage über alle Testdatenpunkte an und schauen auf die Accuarcy.\n",
    "Dazu sagen wir mit jedem der 10 Modelle auf jedem Testdatenpunkt vorher, und merken uns die Klasse mit der höchsten Wahrscheinlichkeit:"
   ]
  },
  {
   "cell_type": "code",
   "execution_count": 25,
   "metadata": {},
   "outputs": [],
   "source": [
    "test_predictions = []\n",
    "for data_index in range(0, len(X_test)):\n",
    "    data_point = X_test.iloc[[data_index]]\n",
    "    predictions = []\n",
    "    for model in models:  \n",
    "        prediction = model.predict_proba(data_point)[0][1]\n",
    "        predictions.append(prediction)\n",
    "    predicted_class = predictions.index(max(predictions))\n",
    "    test_predictions.append(predicted_class)"
   ]
  },
  {
   "cell_type": "code",
   "execution_count": 26,
   "metadata": {},
   "outputs": [
    {
     "data": {
      "text/plain": [
       "0.9472222222222222"
      ]
     },
     "execution_count": 26,
     "metadata": {},
     "output_type": "execute_result"
    }
   ],
   "source": [
    "from sklearn.metrics import accuracy_score\n",
    "accuracy_score(y_test, test_predictions)"
   ]
  },
  {
   "cell_type": "markdown",
   "metadata": {},
   "source": [
    "Wie wir sehen können wir mit unserem recht simplen Modell bereits 95% der Fälle richtig vorhersagen."
   ]
  },
  {
   "cell_type": "markdown",
   "metadata": {},
   "source": [
    "Zum Schluss schauen wir uns die Confusion Matrix der einzelnen Fälle an und den Classificatin Report:"
   ]
  },
  {
   "cell_type": "code",
   "execution_count": 27,
   "metadata": {},
   "outputs": [
    {
     "data": {
      "text/plain": [
       "<sklearn.metrics._plot.confusion_matrix.ConfusionMatrixDisplay at 0x1b612429e50>"
      ]
     },
     "execution_count": 27,
     "metadata": {},
     "output_type": "execute_result"
    },
    {
     "data": {
      "image/png": "[encoded data removed]",
      "text/plain": [
       "<Figure size 640x480 with 2 Axes>"
      ]
     },
     "metadata": {},
     "output_type": "display_data"
    }
   ],
   "source": [
    "from sklearn.metrics import confusion_matrix, ConfusionMatrixDisplay\n",
    "cm = confusion_matrix(y_test, test_predictions, labels=range(0,10))\n",
    "disp = ConfusionMatrixDisplay(confusion_matrix=cm, display_labels=range(0,10))\n",
    "disp.plot()"
   ]
  },
  {
   "cell_type": "code",
   "execution_count": 28,
   "metadata": {},
   "outputs": [
    {
     "name": "stdout",
     "output_type": "stream",
     "text": [
      "              precision    recall  f1-score   support\n",
      "\n",
      "           0       1.00      1.00      1.00        27\n",
      "           1       0.89      0.89      0.89        35\n",
      "           2       0.97      0.94      0.96        36\n",
      "           3       0.90      0.97      0.93        29\n",
      "           4       0.94      1.00      0.97        30\n",
      "           5       0.95      0.97      0.96        40\n",
      "           6       0.98      0.98      0.98        44\n",
      "           7       1.00      0.95      0.97        39\n",
      "           8       0.89      0.87      0.88        39\n",
      "           9       0.95      0.93      0.94        41\n",
      "\n",
      "    accuracy                           0.95       360\n",
      "   macro avg       0.95      0.95      0.95       360\n",
      "weighted avg       0.95      0.95      0.95       360\n",
      "\n"
     ]
    }
   ],
   "source": [
    "from sklearn.metrics import classification_report\n",
    "print(classification_report(y_test, test_predictions))"
   ]
  },
  {
   "cell_type": "markdown",
   "metadata": {},
   "source": [
    "Zum Schluss schauen wir uns den Fall an, wenn wir direkt auf allen Labels trainieren:"
   ]
  },
  {
   "cell_type": "code",
   "execution_count": 29,
   "metadata": {},
   "outputs": [],
   "source": [
    "logReg = LogisticRegression(max_iter=10000)\n",
    "logReg.fit(X_train, y_train);"
   ]
  },
  {
   "cell_type": "code",
   "execution_count": 30,
   "metadata": {},
   "outputs": [
    {
     "data": {
      "text/plain": [
       "0.9583333333333334"
      ]
     },
     "execution_count": 30,
     "metadata": {},
     "output_type": "execute_result"
    }
   ],
   "source": [
    "accuracy_score(y_test, logReg.predict(X_test))"
   ]
  },
  {
   "cell_type": "markdown",
   "metadata": {},
   "source": [
    "Wir wir sehen kann die Klasse `LogisticRegression` auch direkt mit mehreren Labels umgehen."
   ]
  },
  {
   "cell_type": "code",
   "execution_count": 47,
   "metadata": {},
   "outputs": [
    {
     "name": "stdout",
     "output_type": "stream",
     "text": [
      "No GPU available\n",
      "\n",
      "Starting training \n",
      "Loss in epoch 0 is 2.4344499111175537\n",
      "Loss in epoch 10 is 1.9385594129562378\n",
      "Loss in epoch 20 is 1.4886252880096436\n",
      "Loss in epoch 30 is 0.994587779045105\n",
      "Loss in epoch 40 is 0.809881329536438\n",
      "Loss in epoch 50 is 0.5505358576774597\n",
      "Loss in epoch 60 is 0.452252060174942\n",
      "Loss in epoch 70 is 0.3653429448604584\n",
      "Loss in epoch 80 is 0.3544611930847168\n",
      "Loss in epoch 90 is 0.282595157623291\n",
      "Loss in epoch 100 is 0.250237375497818\n",
      "Loss in epoch 110 is 0.23438243567943573\n",
      "Loss in epoch 120 is 0.21863621473312378\n",
      "Loss in epoch 130 is 0.1961061954498291\n",
      "Loss in epoch 140 is 0.17811177670955658\n",
      "Loss in epoch 150 is 0.16498088836669922\n",
      "Loss in epoch 160 is 0.155095174908638\n",
      "Loss in epoch 170 is 0.1453685313463211\n",
      "Loss in epoch 180 is 0.13536322116851807\n",
      "Loss in epoch 190 is 0.12591791152954102\n",
      "Loss in epoch 200 is 0.1171717718243599\n",
      "Loss in epoch 210 is 0.10940604656934738\n",
      "Loss in epoch 220 is 0.10277491062879562\n",
      "Loss in epoch 230 is 0.09683501720428467\n",
      "Loss in epoch 240 is 0.09136702865362167\n",
      "Loss in epoch 250 is 0.08634117245674133\n",
      "Loss in epoch 260 is 0.08184492588043213\n",
      "Loss in epoch 270 is 0.07772109657526016\n",
      "Loss in epoch 280 is 0.07395940274000168\n",
      "Loss in epoch 290 is 0.0704992488026619\n",
      "Loss in epoch 300 is 0.06731747835874557\n",
      "Loss in epoch 310 is 0.0643426850438118\n",
      "Loss in epoch 320 is 0.0615575909614563\n",
      "Loss in epoch 330 is 0.058957651257514954\n",
      "Loss in epoch 340 is 0.0565323531627655\n",
      "Loss in epoch 350 is 0.0542677603662014\n",
      "Loss in epoch 360 is 0.05215684697031975\n",
      "Loss in epoch 370 is 0.05017558112740517\n",
      "Loss in epoch 380 is 0.04831515625119209\n",
      "Loss in epoch 390 is 0.046567030251026154\n",
      "Loss in epoch 400 is 0.044917140156030655\n",
      "Loss in epoch 410 is 0.04336100071668625\n",
      "Loss in epoch 420 is 0.04188094660639763\n",
      "Loss in epoch 430 is 0.040478479117155075\n",
      "Loss in epoch 440 is 0.039144791662693024\n",
      "Loss in epoch 450 is 0.03787572681903839\n",
      "Loss in epoch 460 is 0.03667159005999565\n",
      "Loss in epoch 470 is 0.0355299711227417\n",
      "Loss in epoch 480 is 0.03444230556488037\n",
      "Loss in epoch 490 is 0.03339887037873268\n",
      "Loss in epoch 500 is 0.03240251913666725\n",
      "Loss in epoch 510 is 0.031448155641555786\n",
      "Loss in epoch 520 is 0.030540185049176216\n",
      "Loss in epoch 530 is 0.029672805219888687\n",
      "Loss in epoch 540 is 0.028843339532613754\n",
      "Loss in epoch 550 is 0.02804923802614212\n",
      "Loss in epoch 560 is 0.027289776131510735\n",
      "Loss in epoch 570 is 0.026559464633464813\n",
      "Loss in epoch 580 is 0.025859331712126732\n",
      "Loss in epoch 590 is 0.02518584206700325\n",
      "Loss in epoch 600 is 0.024539217352867126\n",
      "Loss in epoch 610 is 0.023918138816952705\n",
      "Loss in epoch 620 is 0.023321611806750298\n",
      "Loss in epoch 630 is 0.022747034206986427\n",
      "Loss in epoch 640 is 0.02219417504966259\n",
      "Loss in epoch 650 is 0.02166091836988926\n",
      "Loss in epoch 660 is 0.021146629005670547\n",
      "Loss in epoch 670 is 0.020650383085012436\n",
      "Loss in epoch 680 is 0.020173175260424614\n",
      "Loss in epoch 690 is 0.0197099968791008\n",
      "Loss in epoch 700 is 0.019263049587607384\n",
      "Loss in epoch 710 is 0.018832389265298843\n",
      "Loss in epoch 720 is 0.018415318801999092\n",
      "Loss in epoch 730 is 0.01801340840756893\n",
      "Loss in epoch 740 is 0.01762424223124981\n",
      "Loss in epoch 750 is 0.017249206081032753\n",
      "Loss in epoch 760 is 0.016885552555322647\n",
      "Loss in epoch 770 is 0.01653226651251316\n",
      "Loss in epoch 780 is 0.01619010418653488\n",
      "Loss in epoch 790 is 0.0158583652228117\n",
      "Loss in epoch 800 is 0.015537004917860031\n",
      "Loss in epoch 810 is 0.015225770883262157\n",
      "Loss in epoch 820 is 0.014923548325896263\n",
      "Loss in epoch 830 is 0.014630429446697235\n",
      "Loss in epoch 840 is 0.014347023330628872\n",
      "Loss in epoch 850 is 0.014071537181735039\n",
      "Loss in epoch 860 is 0.013804069720208645\n",
      "Loss in epoch 870 is 0.013543523848056793\n",
      "Loss in epoch 880 is 0.013291453942656517\n",
      "Loss in epoch 890 is 0.013046232983469963\n",
      "Loss in epoch 900 is 0.012808226980268955\n",
      "Loss in epoch 910 is 0.012577652931213379\n",
      "Loss in epoch 920 is 0.01235219370573759\n",
      "Loss in epoch 930 is 0.012133600190281868\n",
      "Loss in epoch 940 is 0.011921065859496593\n",
      "Loss in epoch 950 is 0.011714708060026169\n",
      "Loss in epoch 960 is 0.011512836441397667\n",
      "Loss in epoch 970 is 0.011316564865410328\n",
      "Loss in epoch 980 is 0.011125666089355946\n",
      "Loss in epoch 990 is 0.010939866304397583\n",
      "Loss in epoch 1000 is 0.010758367367088795\n",
      "Loss in epoch 1010 is 0.010581477545201778\n",
      "Loss in epoch 1020 is 0.010410036891698837\n",
      "Loss in epoch 1030 is 0.010242084972560406\n",
      "Loss in epoch 1040 is 0.010079063475131989\n",
      "Loss in epoch 1050 is 0.009919446893036366\n",
      "Loss in epoch 1060 is 0.009764597751200199\n",
      "Loss in epoch 1070 is 0.009612638503313065\n",
      "Loss in epoch 1080 is 0.009465377777814865\n",
      "Loss in epoch 1090 is 0.00932149589061737\n",
      "Loss in epoch 1100 is 0.009181062690913677\n",
      "Loss in epoch 1110 is 0.009044209495186806\n",
      "Loss in epoch 1120 is 0.008910429663956165\n",
      "Loss in epoch 1130 is 0.008780310861766338\n",
      "Loss in epoch 1140 is 0.008652468211948872\n",
      "Loss in epoch 1150 is 0.008528006263077259\n",
      "Loss in epoch 1160 is 0.008406886830925941\n",
      "Loss in epoch 1170 is 0.008287999778985977\n",
      "Loss in epoch 1180 is 0.008172293193638325\n",
      "Loss in epoch 1190 is 0.008058714680373669\n",
      "Loss in epoch 1200 is 0.007947984151542187\n",
      "Loss in epoch 1210 is 0.007839526981115341\n",
      "Loss in epoch 1220 is 0.00773305119946599\n",
      "Loss in epoch 1230 is 0.0076294695027172565\n",
      "Loss in epoch 1240 is 0.007527897600084543\n",
      "Loss in epoch 1250 is 0.0074287825264036655\n",
      "Loss in epoch 1260 is 0.00733123579993844\n",
      "Loss in epoch 1270 is 0.00723626185208559\n",
      "Loss in epoch 1280 is 0.0071434625424444675\n",
      "Loss in epoch 1290 is 0.007052248809486628\n",
      "Loss in epoch 1300 is 0.006962686777114868\n",
      "Loss in epoch 1310 is 0.006875721737742424\n",
      "Loss in epoch 1320 is 0.006789928302168846\n",
      "Loss in epoch 1330 is 0.006706081330776215\n",
      "Loss in epoch 1340 is 0.006623861379921436\n",
      "Loss in epoch 1350 is 0.006543404888361692\n",
      "Loss in epoch 1360 is 0.006464184261858463\n",
      "Loss in epoch 1370 is 0.006386162247508764\n",
      "Loss in epoch 1380 is 0.00630983104929328\n",
      "Loss in epoch 1390 is 0.006234841886907816\n",
      "Loss in epoch 1400 is 0.00616151699796319\n",
      "Loss in epoch 1410 is 0.006089656613767147\n",
      "Loss in epoch 1420 is 0.006018938031047583\n",
      "Loss in epoch 1430 is 0.005949989426881075\n",
      "Loss in epoch 1440 is 0.005882206838577986\n",
      "Loss in epoch 1450 is 0.005816529504954815\n",
      "Loss in epoch 1460 is 0.005751575343310833\n",
      "Loss in epoch 1470 is 0.005686633288860321\n",
      "Loss in epoch 1480 is 0.00562500674277544\n",
      "Loss in epoch 1490 is 0.00556254293769598\n",
      "Loss in epoch 1500 is 0.005502169020473957\n",
      "Loss in epoch 1510 is 0.0054426295682787895\n",
      "Loss in epoch 1520 is 0.0053843348287045956\n",
      "Loss in epoch 1530 is 0.0053273215889930725\n",
      "Loss in epoch 1540 is 0.00527038611471653\n",
      "Loss in epoch 1550 is 0.005215075332671404\n",
      "Loss in epoch 1560 is 0.005159968044608831\n",
      "Loss in epoch 1570 is 0.0051050251349806786\n",
      "Loss in epoch 1580 is 0.005052873399108648\n",
      "Loss in epoch 1590 is 0.005000772420316935\n",
      "Loss in epoch 1600 is 0.0049488903023302555\n",
      "Loss in epoch 1610 is 0.004898421932011843\n",
      "Loss in epoch 1620 is 0.004848890006542206\n",
      "Loss in epoch 1630 is 0.0048011355102062225\n",
      "Loss in epoch 1640 is 0.004752631299197674\n",
      "Loss in epoch 1650 is 0.0047064488753676414\n",
      "Loss in epoch 1660 is 0.004659954458475113\n",
      "Loss in epoch 1670 is 0.004614121280610561\n",
      "Loss in epoch 1680 is 0.0045693861320614815\n",
      "Loss in epoch 1690 is 0.0045256828889250755\n",
      "Loss in epoch 1700 is 0.00448213005438447\n",
      "Loss in epoch 1710 is 0.004440012853592634\n",
      "Loss in epoch 1720 is 0.0043978034518659115\n",
      "Loss in epoch 1730 is 0.004356618504971266\n",
      "Loss in epoch 1740 is 0.004316388163715601\n",
      "Loss in epoch 1750 is 0.00427636643871665\n",
      "Loss in epoch 1760 is 0.004237101413309574\n",
      "Loss in epoch 1770 is 0.004198530223220587\n",
      "Loss in epoch 1780 is 0.0041605387814342976\n",
      "Loss in epoch 1790 is 0.004123110324144363\n",
      "Loss in epoch 1800 is 0.00408683018758893\n",
      "Loss in epoch 1810 is 0.004050136543810368\n",
      "Loss in epoch 1820 is 0.004014241509139538\n",
      "Loss in epoch 1830 is 0.00397892203181982\n",
      "Loss in epoch 1840 is 0.003944189753383398\n",
      "Loss in epoch 1850 is 0.0039100185967981815\n",
      "Loss in epoch 1860 is 0.003875397378578782\n",
      "Loss in epoch 1870 is 0.003841548692435026\n",
      "Loss in epoch 1880 is 0.0038077321369200945\n",
      "Loss in epoch 1890 is 0.003773934906348586\n",
      "Loss in epoch 1900 is 0.0037405190523713827\n",
      "Loss in epoch 1910 is 0.003707761410623789\n",
      "Loss in epoch 1920 is 0.0036765735130757093\n",
      "Loss in epoch 1930 is 0.0036458636168390512\n",
      "Loss in epoch 1940 is 0.0036155767738819122\n",
      "Loss in epoch 1950 is 0.003586180042475462\n",
      "Loss in epoch 1960 is 0.0035561814438551664\n",
      "Loss in epoch 1970 is 0.003527351887896657\n",
      "Loss in epoch 1980 is 0.0034987588878721\n",
      "Loss in epoch 1990 is 0.003470512107014656\n",
      "Loss in epoch 2000 is 0.003442702116444707\n",
      "Loss in epoch 2010 is 0.003415166400372982\n",
      "Loss in epoch 2020 is 0.0033879608381539583\n",
      "Loss in epoch 2030 is 0.0033612686675041914\n",
      "Loss in epoch 2040 is 0.0033348905853927135\n",
      "Loss in epoch 2050 is 0.0033089001663029194\n",
      "Loss in epoch 2060 is 0.003283319529145956\n",
      "Loss in epoch 2070 is 0.0032582657877355814\n",
      "Loss in epoch 2080 is 0.00323302298784256\n",
      "Loss in epoch 2090 is 0.003208370879292488\n",
      "Loss in epoch 2100 is 0.003183595836162567\n",
      "Loss in epoch 2110 is 0.0031594112515449524\n",
      "Loss in epoch 2120 is 0.0031356755644083023\n",
      "Loss in epoch 2130 is 0.003112643724307418\n",
      "Loss in epoch 2140 is 0.0030894663650542498\n",
      "Loss in epoch 2150 is 0.0030663975048810244\n",
      "Loss in epoch 2160 is 0.003043588949367404\n",
      "Loss in epoch 2170 is 0.003021547105163336\n",
      "Loss in epoch 2180 is 0.002999510383233428\n",
      "Loss in epoch 2190 is 0.002977285534143448\n",
      "Loss in epoch 2200 is 0.0029556574299931526\n",
      "Loss in epoch 2210 is 0.0029344120994210243\n",
      "Loss in epoch 2220 is 0.0029138887766748667\n",
      "Loss in epoch 2230 is 0.0028925787191838026\n",
      "Loss in epoch 2240 is 0.0028721282724291086\n",
      "Loss in epoch 2250 is 0.0028522766660898924\n",
      "Loss in epoch 2260 is 0.002831829711794853\n",
      "Loss in epoch 2270 is 0.0028120989445596933\n",
      "Loss in epoch 2280 is 0.0027925504837185144\n",
      "Loss in epoch 2290 is 0.0027733920142054558\n",
      "Loss in epoch 2300 is 0.0027541429735720158\n",
      "Loss in epoch 2310 is 0.0027353595942258835\n",
      "Loss in epoch 2320 is 0.002716779476031661\n",
      "Loss in epoch 2330 is 0.0026982626877725124\n",
      "Loss in epoch 2340 is 0.0026801819913089275\n",
      "Loss in epoch 2350 is 0.0026625001337379217\n",
      "Loss in epoch 2360 is 0.0026444571558386087\n",
      "Loss in epoch 2370 is 0.002626862144097686\n",
      "Loss in epoch 2380 is 0.0026095008943229914\n",
      "Loss in epoch 2390 is 0.0025925887748599052\n",
      "Loss in epoch 2400 is 0.0025751956272870302\n",
      "Loss in epoch 2410 is 0.00255847186781466\n",
      "Loss in epoch 2420 is 0.002541845664381981\n",
      "Loss in epoch 2430 is 0.0025258276145905256\n",
      "Loss in epoch 2440 is 0.002509194193407893\n",
      "Loss in epoch 2450 is 0.002493277657777071\n",
      "Loss in epoch 2460 is 0.002477329922839999\n",
      "Loss in epoch 2470 is 0.002461751690134406\n",
      "Loss in epoch 2480 is 0.0024462107103317976\n",
      "Loss in epoch 2490 is 0.002431051107123494\n",
      "Loss in epoch 2500 is 0.0024156621657311916\n",
      "Loss in epoch 2510 is 0.0024005493614822626\n",
      "Loss in epoch 2520 is 0.002385771367698908\n",
      "Loss in epoch 2530 is 0.0023710725363343954\n",
      "Loss in epoch 2540 is 0.002356872661039233\n",
      "Loss in epoch 2550 is 0.0023421491496264935\n",
      "Loss in epoch 2560 is 0.002327992580831051\n",
      "Loss in epoch 2570 is 0.002313924254849553\n",
      "Loss in epoch 2580 is 0.0023000652436167\n",
      "Loss in epoch 2590 is 0.002286270260810852\n",
      "Loss in epoch 2600 is 0.0022727129980921745\n",
      "Loss in epoch 2610 is 0.002259173197671771\n",
      "Loss in epoch 2620 is 0.002245918847620487\n",
      "Loss in epoch 2630 is 0.002232686849310994\n",
      "Loss in epoch 2640 is 0.0022199058439582586\n",
      "Loss in epoch 2650 is 0.002206678269430995\n",
      "Loss in epoch 2660 is 0.002193885389715433\n",
      "Loss in epoch 2670 is 0.0021814240608364344\n",
      "Loss in epoch 2680 is 0.002168916631489992\n",
      "Loss in epoch 2690 is 0.00215621804818511\n",
      "Loss in epoch 2700 is 0.0021439006086438894\n",
      "Loss in epoch 2710 is 0.002131929388269782\n",
      "Loss in epoch 2720 is 0.0021199085749685764\n",
      "Loss in epoch 2730 is 0.002107949461787939\n",
      "Loss in epoch 2740 is 0.0020961060654371977\n",
      "Loss in epoch 2750 is 0.002084382576867938\n",
      "Loss in epoch 2760 is 0.0020728078670799732\n",
      "Loss in epoch 2770 is 0.0020611039362847805\n",
      "Loss in epoch 2780 is 0.002049926435574889\n",
      "Loss in epoch 2790 is 0.00203843810595572\n",
      "Loss in epoch 2800 is 0.002027543494477868\n",
      "Loss in epoch 2810 is 0.002016425598412752\n",
      "Loss in epoch 2820 is 0.0020052208565175533\n",
      "Loss in epoch 2830 is 0.0019943788647651672\n",
      "Loss in epoch 2840 is 0.0019838903099298477\n",
      "Loss in epoch 2850 is 0.00197297683916986\n",
      "Loss in epoch 2860 is 0.00196269154548645\n",
      "Loss in epoch 2870 is 0.0019521965878084302\n",
      "Loss in epoch 2880 is 0.0019415508722886443\n",
      "Loss in epoch 2890 is 0.0019312509102746844\n",
      "Loss in epoch 2900 is 0.001921046175993979\n",
      "Loss in epoch 2910 is 0.0019109738059341908\n",
      "Loss in epoch 2920 is 0.0019009828101843596\n",
      "Loss in epoch 2930 is 0.0018910442013293505\n",
      "Loss in epoch 2940 is 0.0018811501795426011\n",
      "Loss in epoch 2950 is 0.0018716593040153384\n",
      "Loss in epoch 2960 is 0.001862005447037518\n",
      "Loss in epoch 2970 is 0.0018521916354075074\n",
      "Loss in epoch 2980 is 0.0018427664181217551\n",
      "Loss in epoch 2990 is 0.0018335689092054963\n",
      "Loss in epoch 3000 is 0.0018240114441141486\n",
      "Loss in epoch 3010 is 0.0018147301161661744\n",
      "Loss in epoch 3020 is 0.0018056445987895131\n",
      "Loss in epoch 3030 is 0.00179677817504853\n",
      "Loss in epoch 3040 is 0.0017877522623166442\n",
      "Loss in epoch 3050 is 0.0017786748940125108\n",
      "Loss in epoch 3060 is 0.0017698435112833977\n",
      "Loss in epoch 3070 is 0.0017610638169571757\n",
      "Loss in epoch 3080 is 0.0017524691065773368\n",
      "Loss in epoch 3090 is 0.001743767410516739\n",
      "Loss in epoch 3100 is 0.001735163968987763\n",
      "Loss in epoch 3110 is 0.0017266737995669246\n",
      "Loss in epoch 3120 is 0.0017183665186166763\n",
      "Loss in epoch 3130 is 0.0017099645920097828\n",
      "Loss in epoch 3140 is 0.0017017163336277008\n",
      "Loss in epoch 3150 is 0.0016935410676524043\n",
      "Loss in epoch 3160 is 0.0016854319255799055\n",
      "Loss in epoch 3170 is 0.0016775241820141673\n",
      "Loss in epoch 3180 is 0.0016693159705027938\n",
      "Loss in epoch 3190 is 0.0016613974003121257\n",
      "Loss in epoch 3200 is 0.0016537063056603074\n",
      "Loss in epoch 3210 is 0.0016457036836072803\n",
      "Loss in epoch 3220 is 0.0016379458829760551\n",
      "Loss in epoch 3230 is 0.001630332670174539\n",
      "Loss in epoch 3240 is 0.001622615847736597\n",
      "Loss in epoch 3250 is 0.0016151099698618054\n",
      "Loss in epoch 3260 is 0.0016075976891443133\n",
      "Loss in epoch 3270 is 0.0016000919276848435\n",
      "Loss in epoch 3280 is 0.0015927262138575315\n",
      "Loss in epoch 3290 is 0.0015853926306590438\n",
      "Loss in epoch 3300 is 0.0015781125985085964\n",
      "Loss in epoch 3310 is 0.0015709130093455315\n",
      "Loss in epoch 3320 is 0.0015638654585927725\n",
      "Loss in epoch 3330 is 0.0015567097580060363\n",
      "Loss in epoch 3340 is 0.0015497540589421988\n",
      "Loss in epoch 3350 is 0.0015427123289555311\n",
      "Loss in epoch 3360 is 0.0015359565149992704\n",
      "Loss in epoch 3370 is 0.0015289108268916607\n",
      "Loss in epoch 3380 is 0.0015222704969346523\n",
      "Loss in epoch 3390 is 0.0015153412241488695\n",
      "Loss in epoch 3400 is 0.0015086691128090024\n",
      "Loss in epoch 3410 is 0.0015020582359284163\n",
      "Loss in epoch 3420 is 0.001495604868978262\n",
      "Loss in epoch 3430 is 0.0014890338061377406\n",
      "Loss in epoch 3440 is 0.0014824738027527928\n",
      "Loss in epoch 3450 is 0.001476063160225749\n",
      "Loss in epoch 3460 is 0.0014695875579491258\n",
      "Loss in epoch 3470 is 0.0014631596859544516\n",
      "Loss in epoch 3480 is 0.001456867903470993\n",
      "Loss in epoch 3490 is 0.0014507537707686424\n",
      "Loss in epoch 3500 is 0.001444401335902512\n",
      "Loss in epoch 3510 is 0.001438269973732531\n",
      "Loss in epoch 3520 is 0.0014321921626105905\n",
      "Loss in epoch 3530 is 0.001426110160537064\n",
      "Loss in epoch 3540 is 0.0014200316509231925\n",
      "Loss in epoch 3550 is 0.0014141211286187172\n",
      "Loss in epoch 3560 is 0.001408086158335209\n",
      "Loss in epoch 3570 is 0.0014022067189216614\n",
      "Loss in epoch 3580 is 0.0013963761739432812\n",
      "Loss in epoch 3590 is 0.0013905807863920927\n",
      "Loss in epoch 3600 is 0.0013847894733771682\n",
      "Loss in epoch 3610 is 0.001379095483571291\n",
      "Loss in epoch 3620 is 0.0013734610984101892\n",
      "Loss in epoch 3630 is 0.0013677484821528196\n",
      "Loss in epoch 3640 is 0.00136220408603549\n",
      "Loss in epoch 3650 is 0.00135658064391464\n",
      "Loss in epoch 3660 is 0.0013510710559785366\n",
      "Loss in epoch 3670 is 0.0013455897569656372\n",
      "Loss in epoch 3680 is 0.0013401572359725833\n",
      "Loss in epoch 3690 is 0.0013347730273380876\n",
      "Loss in epoch 3700 is 0.0013293738011270761\n",
      "Loss in epoch 3710 is 0.0013241322012618184\n",
      "Loss in epoch 3720 is 0.001318770693615079\n",
      "Loss in epoch 3730 is 0.0013134937034919858\n",
      "Loss in epoch 3740 is 0.001308359787799418\n",
      "Loss in epoch 3750 is 0.0013032163260504603\n",
      "Loss in epoch 3760 is 0.0012980198953300714\n",
      "Loss in epoch 3770 is 0.0012929100776091218\n",
      "Loss in epoch 3780 is 0.0012879330897703767\n",
      "Loss in epoch 3790 is 0.001282881130464375\n",
      "Loss in epoch 3800 is 0.001277744653634727\n",
      "Loss in epoch 3810 is 0.0012727580033242702\n",
      "Loss in epoch 3820 is 0.0012678380589932203\n",
      "Loss in epoch 3830 is 0.0012629255652427673\n",
      "Loss in epoch 3840 is 0.0012580524198710918\n",
      "Loss in epoch 3850 is 0.001253232709132135\n",
      "Loss in epoch 3860 is 0.0012485500192269683\n",
      "Loss in epoch 3870 is 0.0012436981778591871\n",
      "Loss in epoch 3880 is 0.0012389672920107841\n",
      "Loss in epoch 3890 is 0.00123429240193218\n",
      "Loss in epoch 3900 is 0.0012295347405597568\n",
      "Loss in epoch 3910 is 0.001224889070726931\n",
      "Loss in epoch 3920 is 0.0012202935758978128\n",
      "Loss in epoch 3930 is 0.001215650700032711\n",
      "Loss in epoch 3940 is 0.0012112006079405546\n",
      "Loss in epoch 3950 is 0.0012066563358530402\n",
      "Loss in epoch 3960 is 0.0012021318543702364\n",
      "Loss in epoch 3970 is 0.0011976148234680295\n",
      "Loss in epoch 3980 is 0.0011931852204725146\n",
      "Loss in epoch 3990 is 0.0011887731961905956\n",
      "Loss in epoch 4000 is 0.0011843792162835598\n",
      "Loss in epoch 4010 is 0.001180077437311411\n",
      "Loss in epoch 4020 is 0.0011757791507989168\n",
      "Loss in epoch 4030 is 0.0011713915737345815\n",
      "Loss in epoch 4040 is 0.0011671073734760284\n",
      "Loss in epoch 4050 is 0.0011628426145762205\n",
      "Loss in epoch 4060 is 0.0011586318723857403\n",
      "Loss in epoch 4070 is 0.0011544382432475686\n",
      "Loss in epoch 4080 is 0.0011503209825605154\n",
      "Loss in epoch 4090 is 0.0011461275862529874\n",
      "Loss in epoch 4100 is 0.0011419989168643951\n",
      "Loss in epoch 4110 is 0.0011379050556570292\n",
      "Loss in epoch 4120 is 0.0011339166667312384\n",
      "Loss in epoch 4130 is 0.0011298788012936711\n",
      "Loss in epoch 4140 is 0.0011258083395659924\n",
      "Loss in epoch 4150 is 0.0011217904975637794\n",
      "Loss in epoch 4160 is 0.0011178669519722462\n",
      "Loss in epoch 4170 is 0.0011138804256916046\n",
      "Loss in epoch 4180 is 0.0011099661933258176\n",
      "Loss in epoch 4190 is 0.0011061037657782435\n",
      "Loss in epoch 4200 is 0.0011022043181583285\n",
      "Loss in epoch 4210 is 0.0010984275722876191\n",
      "Loss in epoch 4220 is 0.0010945842368528247\n",
      "Loss in epoch 4230 is 0.0010907395044341683\n",
      "Loss in epoch 4240 is 0.0010869634570553899\n",
      "Loss in epoch 4250 is 0.0010832644766196609\n",
      "Loss in epoch 4260 is 0.0010794918052852154\n",
      "Loss in epoch 4270 is 0.001075789681635797\n",
      "Loss in epoch 4280 is 0.0010721549624577165\n",
      "Loss in epoch 4290 is 0.0010685209417715669\n",
      "Loss in epoch 4300 is 0.0010647872695699334\n",
      "Loss in epoch 4310 is 0.001061127637512982\n",
      "Loss in epoch 4320 is 0.0010575144551694393\n",
      "Loss in epoch 4330 is 0.0010539059294387698\n",
      "Loss in epoch 4340 is 0.001050331862643361\n",
      "Loss in epoch 4350 is 0.0010468089021742344\n",
      "Loss in epoch 4360 is 0.0010432570707052946\n",
      "Loss in epoch 4370 is 0.0010398016311228275\n",
      "Loss in epoch 4380 is 0.0010362130124121904\n",
      "Loss in epoch 4390 is 0.001032746396958828\n",
      "Loss in epoch 4400 is 0.0010292800143361092\n",
      "Loss in epoch 4410 is 0.0010258755646646023\n",
      "Loss in epoch 4420 is 0.0010224295547232032\n",
      "Loss in epoch 4430 is 0.0010191049659624696\n",
      "Loss in epoch 4440 is 0.0010156683856621385\n",
      "Loss in epoch 4450 is 0.0010123057290911674\n",
      "Loss in epoch 4460 is 0.0010089688003063202\n",
      "Loss in epoch 4470 is 0.0010056851897388697\n",
      "Loss in epoch 4480 is 0.0010024107759818435\n",
      "Loss in epoch 4490 is 0.000999067910015583\n",
      "Loss in epoch 4500 is 0.0009958491427823901\n",
      "Loss in epoch 4510 is 0.000992583460174501\n",
      "Loss in epoch 4520 is 0.0009894315153360367\n",
      "Loss in epoch 4530 is 0.0009861515136435628\n",
      "Loss in epoch 4540 is 0.0009829875780269504\n",
      "Loss in epoch 4550 is 0.0009797882521525025\n",
      "Loss in epoch 4560 is 0.000976629089564085\n",
      "Loss in epoch 4570 is 0.0009734592167660594\n",
      "Loss in epoch 4580 is 0.0009704032563604414\n",
      "Loss in epoch 4590 is 0.0009672147571109235\n",
      "Loss in epoch 4600 is 0.0009641178767196834\n",
      "Loss in epoch 4610 is 0.000961087760515511\n",
      "Loss in epoch 4620 is 0.0009579691104590893\n",
      "Loss in epoch 4630 is 0.0009549342794343829\n",
      "Loss in epoch 4640 is 0.0009519599261693656\n",
      "Loss in epoch 4650 is 0.000948912522289902\n",
      "Loss in epoch 4660 is 0.0009459468419663608\n",
      "Loss in epoch 4670 is 0.0009429074707441032\n",
      "Loss in epoch 4680 is 0.0009399421978741884\n",
      "Loss in epoch 4690 is 0.0009370084735564888\n",
      "Loss in epoch 4700 is 0.0009340905817225575\n",
      "Loss in epoch 4710 is 0.0009312176844105124\n",
      "Loss in epoch 4720 is 0.000928265624679625\n",
      "Loss in epoch 4730 is 0.0009254166507162154\n",
      "Loss in epoch 4740 is 0.0009225199464708567\n",
      "Loss in epoch 4750 is 0.000919714046176523\n",
      "Loss in epoch 4760 is 0.0009168472606688738\n",
      "Loss in epoch 4770 is 0.0009140640613622963\n",
      "Loss in epoch 4780 is 0.0009112307452596724\n",
      "Loss in epoch 4790 is 0.0009084524353966117\n",
      "Loss in epoch 4800 is 0.0009056769195012748\n",
      "Loss in epoch 4810 is 0.0009029179345816374\n",
      "Loss in epoch 4820 is 0.0009001768194139004\n",
      "Loss in epoch 4830 is 0.0008974584634415805\n",
      "Loss in epoch 4840 is 0.0008947363239713013\n",
      "Loss in epoch 4850 is 0.0008920417167246342\n",
      "Loss in epoch 4860 is 0.0008893596823327243\n",
      "Loss in epoch 4870 is 0.0008866908028721809\n",
      "Loss in epoch 4880 is 0.0008841024828143418\n",
      "Loss in epoch 4890 is 0.0008814012981019914\n",
      "Loss in epoch 4900 is 0.0008788297418504953\n",
      "Loss in epoch 4910 is 0.0008761974168010056\n",
      "Loss in epoch 4920 is 0.0008735957089811563\n",
      "Loss in epoch 4930 is 0.000870986026711762\n",
      "Loss in epoch 4940 is 0.000868411036208272\n",
      "Loss in epoch 4950 is 0.0008659102022647858\n",
      "Loss in epoch 4960 is 0.0008633275865577161\n",
      "Loss in epoch 4970 is 0.0008607859490439296\n",
      "Loss in epoch 4980 is 0.0008582613663747907\n",
      "Loss in epoch 4990 is 0.0008557640248909593\n",
      "Loss in epoch 5000 is 0.0008532705833204091\n",
      "Loss in epoch 5010 is 0.0008508193423040211\n",
      "Loss in epoch 5020 is 0.0008483430719934404\n",
      "Loss in epoch 5030 is 0.0008458659867756069\n",
      "Loss in epoch 5040 is 0.0008434354094788432\n",
      "Loss in epoch 5050 is 0.0008410150767304003\n",
      "Loss in epoch 5060 is 0.0008385846158489585\n",
      "Loss in epoch 5070 is 0.0008362066000699997\n",
      "Loss in epoch 5080 is 0.000833806989248842\n",
      "Loss in epoch 5090 is 0.0008314211736433208\n",
      "Loss in epoch 5100 is 0.0008290617261081934\n",
      "Loss in epoch 5110 is 0.0008266881923191249\n",
      "Loss in epoch 5120 is 0.0008243487682193518\n",
      "Loss in epoch 5130 is 0.0008220690069720149\n",
      "Loss in epoch 5140 is 0.0008197170100174844\n",
      "Loss in epoch 5150 is 0.0008174034883268178\n",
      "Loss in epoch 5160 is 0.0008151025976985693\n",
      "Loss in epoch 5170 is 0.0008128248737193644\n",
      "Loss in epoch 5180 is 0.0008105802698992193\n",
      "Loss in epoch 5190 is 0.0008082863641902804\n",
      "Loss in epoch 5200 is 0.000806024472694844\n",
      "Loss in epoch 5210 is 0.0008037983789108694\n",
      "Loss in epoch 5220 is 0.0008015508065000176\n",
      "Loss in epoch 5230 is 0.0007993418257683516\n",
      "Loss in epoch 5240 is 0.0007971313898451626\n",
      "Loss in epoch 5250 is 0.0007949341670610011\n",
      "Loss in epoch 5260 is 0.0007927456172183156\n",
      "Loss in epoch 5270 is 0.0007905882666818798\n",
      "Loss in epoch 5280 is 0.0007884023943915963\n",
      "Loss in epoch 5290 is 0.0007862584898248315\n",
      "Loss in epoch 5300 is 0.0007841265760362148\n",
      "Loss in epoch 5310 is 0.0007819794118404388\n",
      "Loss in epoch 5320 is 0.0007798574515618384\n",
      "Loss in epoch 5330 is 0.0007777484715916216\n",
      "Loss in epoch 5340 is 0.0007756418199278414\n",
      "Loss in epoch 5350 is 0.0007735496037639678\n",
      "Loss in epoch 5360 is 0.0007714621024206281\n",
      "Loss in epoch 5370 is 0.0007693895022384822\n",
      "Loss in epoch 5380 is 0.0007673125364817679\n",
      "Loss in epoch 5390 is 0.0007652613567188382\n",
      "Loss in epoch 5400 is 0.0007632283959537745\n",
      "Loss in epoch 5410 is 0.0007611734909005463\n",
      "Loss in epoch 5420 is 0.0007591524044983089\n",
      "Loss in epoch 5430 is 0.0007571317255496979\n",
      "Loss in epoch 5440 is 0.0007551417220383883\n",
      "Loss in epoch 5450 is 0.0007531195878982544\n",
      "Loss in epoch 5460 is 0.000751132087316364\n",
      "Loss in epoch 5470 is 0.0007491493597626686\n",
      "Loss in epoch 5480 is 0.000747214537113905\n",
      "Loss in epoch 5490 is 0.0007452198187820613\n",
      "Loss in epoch 5500 is 0.0007433003047481179\n",
      "Loss in epoch 5510 is 0.0007413355051539838\n",
      "Loss in epoch 5520 is 0.0007394258282147348\n",
      "Loss in epoch 5530 is 0.0007374702836386859\n",
      "Loss in epoch 5540 is 0.0007355480338446796\n",
      "Loss in epoch 5550 is 0.000733646156731993\n",
      "Loss in epoch 5560 is 0.0007317434647120535\n",
      "Loss in epoch 5570 is 0.00072985835140571\n",
      "Loss in epoch 5580 is 0.0007279901183210313\n",
      "Loss in epoch 5590 is 0.000726143189240247\n",
      "Loss in epoch 5600 is 0.0007242427091114223\n",
      "Loss in epoch 5610 is 0.0007223866996355355\n",
      "Loss in epoch 5620 is 0.000720541924238205\n",
      "Loss in epoch 5630 is 0.000718737835995853\n",
      "Loss in epoch 5640 is 0.0007168665761128068\n",
      "Loss in epoch 5650 is 0.0007150499150156975\n",
      "Loss in epoch 5660 is 0.0007132270839065313\n",
      "Loss in epoch 5670 is 0.0007114630425348878\n",
      "Loss in epoch 5680 is 0.000709622458089143\n",
      "Loss in epoch 5690 is 0.0007078401395119727\n",
      "Loss in epoch 5700 is 0.0007060106727294624\n",
      "Loss in epoch 5710 is 0.0007042154902592301\n",
      "Loss in epoch 5720 is 0.0007024307269603014\n",
      "Loss in epoch 5730 is 0.0007006620871834457\n",
      "Loss in epoch 5740 is 0.0006988883251324296\n",
      "Loss in epoch 5750 is 0.0006971341208554804\n",
      "Loss in epoch 5760 is 0.000695376074872911\n",
      "Loss in epoch 5770 is 0.0006936316494829953\n",
      "Loss in epoch 5780 is 0.0006918921135365963\n",
      "Loss in epoch 5790 is 0.0006902029272168875\n",
      "Loss in epoch 5800 is 0.0006884454633109272\n",
      "Loss in epoch 5810 is 0.0006867328193038702\n",
      "Loss in epoch 5820 is 0.000685029779560864\n",
      "Loss in epoch 5830 is 0.0006833287188783288\n",
      "Loss in epoch 5840 is 0.0006816391251049936\n",
      "Loss in epoch 5850 is 0.0006799587281420827\n",
      "Loss in epoch 5860 is 0.0006783034186810255\n",
      "Loss in epoch 5870 is 0.0006766061414964497\n",
      "Loss in epoch 5880 is 0.0006749675376340747\n",
      "Loss in epoch 5890 is 0.0006732948240824044\n",
      "Loss in epoch 5900 is 0.0006716428324580193\n",
      "Loss in epoch 5910 is 0.0006699982914142311\n",
      "Loss in epoch 5920 is 0.0006683614337816834\n",
      "Loss in epoch 5930 is 0.000666741281747818\n",
      "Loss in epoch 5940 is 0.000665120838675648\n",
      "Loss in epoch 5950 is 0.0006635026657022536\n",
      "Loss in epoch 5960 is 0.0006619294290430844\n",
      "Loss in epoch 5970 is 0.000660326040815562\n",
      "Loss in epoch 5980 is 0.0006587143871001899\n",
      "Loss in epoch 5990 is 0.0006571244448423386\n",
      "Loss in epoch 6000 is 0.0006555462605319917\n",
      "Loss in epoch 6010 is 0.0006539734313264489\n",
      "Loss in epoch 6020 is 0.0006524132913909853\n",
      "Loss in epoch 6030 is 0.0006508559454232454\n",
      "Loss in epoch 6040 is 0.0006493041291832924\n",
      "Loss in epoch 6050 is 0.0006477655842900276\n",
      "Loss in epoch 6060 is 0.0006462212186306715\n",
      "Loss in epoch 6070 is 0.0006447251071222126\n",
      "Loss in epoch 6080 is 0.0006431688088923693\n",
      "Loss in epoch 6090 is 0.0006416533724404871\n",
      "Loss in epoch 6100 is 0.0006401388091035187\n",
      "Loss in epoch 6110 is 0.0006386282038874924\n",
      "Loss in epoch 6120 is 0.0006371323252096772\n",
      "Loss in epoch 6130 is 0.0006356408703140914\n",
      "Loss in epoch 6140 is 0.0006341523258015513\n",
      "Loss in epoch 6150 is 0.0006326735019683838\n",
      "Loss in epoch 6160 is 0.0006311936303973198\n",
      "Loss in epoch 6170 is 0.0006297606159932911\n",
      "Loss in epoch 6180 is 0.0006282598478719592\n",
      "Loss in epoch 6190 is 0.0006268049473874271\n",
      "Loss in epoch 6200 is 0.0006253572064451873\n",
      "Loss in epoch 6210 is 0.0006239131325855851\n",
      "Loss in epoch 6220 is 0.0006224788376130164\n",
      "Loss in epoch 6230 is 0.0006210455321706831\n",
      "Loss in epoch 6240 is 0.0006196511094458401\n",
      "Loss in epoch 6250 is 0.0006181949866004288\n",
      "Loss in epoch 6260 is 0.0006167814135551453\n",
      "Loss in epoch 6270 is 0.0006154015427455306\n",
      "Loss in epoch 6280 is 0.0006139683537185192\n",
      "Loss in epoch 6290 is 0.0006125724758021533\n",
      "Loss in epoch 6300 is 0.000611180963460356\n",
      "Loss in epoch 6310 is 0.0006098034209571779\n",
      "Loss in epoch 6320 is 0.0006084123742766678\n",
      "Loss in epoch 6330 is 0.0006070374511182308\n",
      "Loss in epoch 6340 is 0.0006057014688849449\n",
      "Loss in epoch 6350 is 0.0006043046014383435\n",
      "Loss in epoch 6360 is 0.0006029476062394679\n",
      "Loss in epoch 6370 is 0.0006015987601131201\n",
      "Loss in epoch 6380 is 0.0006002799491398036\n",
      "Loss in epoch 6390 is 0.0005989080527797341\n",
      "Loss in epoch 6400 is 0.0005975699750706553\n",
      "Loss in epoch 6410 is 0.000596238300204277\n",
      "Loss in epoch 6420 is 0.000594915880355984\n",
      "Loss in epoch 6430 is 0.0005936021916568279\n",
      "Loss in epoch 6440 is 0.0005923013668507338\n",
      "Loss in epoch 6450 is 0.0005909898318350315\n",
      "Loss in epoch 6460 is 0.0005896675284020603\n",
      "Loss in epoch 6470 is 0.0005883673438802361\n",
      "Loss in epoch 6480 is 0.0005870690220035613\n",
      "Loss in epoch 6490 is 0.0005857822252437472\n",
      "Loss in epoch 6500 is 0.000584498280659318\n",
      "Loss in epoch 6510 is 0.000583246408496052\n",
      "Loss in epoch 6520 is 0.0005819440120831132\n",
      "Loss in epoch 6530 is 0.0005806764820590615\n",
      "Loss in epoch 6540 is 0.0005794136086478829\n",
      "Loss in epoch 6550 is 0.0005781498621217906\n",
      "Loss in epoch 6560 is 0.0005769010167568922\n",
      "Loss in epoch 6570 is 0.0005756444297730923\n",
      "Loss in epoch 6580 is 0.0005744099034927785\n",
      "Loss in epoch 6590 is 0.000573161814827472\n",
      "Loss in epoch 6600 is 0.0005719310720451176\n",
      "Loss in epoch 6610 is 0.0005707017262466252\n",
      "Loss in epoch 6620 is 0.0005694693536497653\n",
      "Loss in epoch 6630 is 0.0005682474584318697\n",
      "Loss in epoch 6640 is 0.0005670325481332839\n",
      "Loss in epoch 6650 is 0.0005658225272782147\n",
      "Loss in epoch 6660 is 0.0005646106437779963\n",
      "Loss in epoch 6670 is 0.000563432986382395\n",
      "Loss in epoch 6680 is 0.0005622100434266031\n",
      "Loss in epoch 6690 is 0.0005610196385532618\n",
      "Loss in epoch 6700 is 0.000559831561986357\n",
      "Loss in epoch 6710 is 0.0005586455226875842\n",
      "Loss in epoch 6720 is 0.0005574657116085291\n",
      "Loss in epoch 6730 is 0.0005562877049669623\n",
      "Loss in epoch 6740 is 0.000555118196643889\n",
      "Loss in epoch 6750 is 0.0005539749981835485\n",
      "Loss in epoch 6760 is 0.0005527937319129705\n",
      "Loss in epoch 6770 is 0.000551628356333822\n",
      "Loss in epoch 6780 is 0.0005504765431396663\n",
      "Loss in epoch 6790 is 0.0005493518547154963\n",
      "Loss in epoch 6800 is 0.0005481925909407437\n",
      "Loss in epoch 6810 is 0.0005470397300086915\n",
      "Loss in epoch 6820 is 0.0005459091044031084\n",
      "Loss in epoch 6830 is 0.0005447706207633018\n",
      "Loss in epoch 6840 is 0.0005436600768007338\n",
      "Loss in epoch 6850 is 0.000542525143828243\n",
      "Loss in epoch 6860 is 0.000541402492672205\n",
      "Loss in epoch 6870 is 0.0005402831011451781\n",
      "Loss in epoch 6880 is 0.000539176631718874\n",
      "Loss in epoch 6890 is 0.000538066728040576\n",
      "Loss in epoch 6900 is 0.0005369611899368465\n",
      "Loss in epoch 6910 is 0.0005358649068512022\n",
      "Loss in epoch 6920 is 0.0005347655387595296\n",
      "Loss in epoch 6930 is 0.0005336818867363036\n",
      "Loss in epoch 6940 is 0.000532587873749435\n",
      "Loss in epoch 6950 is 0.0005315049784258008\n",
      "Loss in epoch 6960 is 0.0005304287187755108\n",
      "Loss in epoch 6970 is 0.0005293749272823334\n",
      "Loss in epoch 6980 is 0.0005282802158035338\n",
      "Loss in epoch 6990 is 0.0005272112903185189\n",
      "Loss in epoch 7000 is 0.0005261496407911181\n",
      "Loss in epoch 7010 is 0.0005250871181488037\n",
      "Loss in epoch 7020 is 0.0005240367026999593\n",
      "Loss in epoch 7030 is 0.0005229817470535636\n",
      "Loss in epoch 7040 is 0.0005219333106651902\n",
      "Loss in epoch 7050 is 0.0005208896473050117\n",
      "Loss in epoch 7060 is 0.000519847497344017\n",
      "Loss in epoch 7070 is 0.0005188091308809817\n",
      "Loss in epoch 7080 is 0.0005177756538614631\n",
      "Loss in epoch 7090 is 0.0005167462513782084\n",
      "Loss in epoch 7100 is 0.0005157203413546085\n",
      "Loss in epoch 7110 is 0.0005146965850144625\n",
      "Loss in epoch 7120 is 0.0005136957042850554\n",
      "Loss in epoch 7130 is 0.0005126660107634962\n",
      "Loss in epoch 7140 is 0.0005116488318890333\n",
      "Loss in epoch 7150 is 0.0005106401513330638\n",
      "Loss in epoch 7160 is 0.0005096408422105014\n",
      "Loss in epoch 7170 is 0.0005086358287371695\n",
      "Loss in epoch 7180 is 0.0005076435045339167\n",
      "Loss in epoch 7190 is 0.0005066427984274924\n",
      "Loss in epoch 7200 is 0.0005056544905528426\n",
      "Loss in epoch 7210 is 0.0005046717124059796\n",
      "Loss in epoch 7220 is 0.0005036831134930253\n",
      "Loss in epoch 7230 is 0.0005027066799812019\n",
      "Loss in epoch 7240 is 0.0005017293151468039\n",
      "Loss in epoch 7250 is 0.0005007561994716525\n",
      "Loss in epoch 7260 is 0.0004997923970222473\n",
      "Loss in epoch 7270 is 0.0004988242872059345\n",
      "Loss in epoch 7280 is 0.0004978568758815527\n",
      "Loss in epoch 7290 is 0.0004968956927768886\n",
      "Loss in epoch 7300 is 0.0004959536017850041\n",
      "Loss in epoch 7310 is 0.00049499241868034\n",
      "Loss in epoch 7320 is 0.0004940430517308414\n",
      "Loss in epoch 7330 is 0.0004930954892188311\n",
      "Loss in epoch 7340 is 0.0004921516519971192\n",
      "Loss in epoch 7350 is 0.0004912112490274012\n",
      "Loss in epoch 7360 is 0.0004902915679849684\n",
      "Loss in epoch 7370 is 0.0004893453442491591\n",
      "Loss in epoch 7380 is 0.0004884105874225497\n",
      "Loss in epoch 7390 is 0.0004874987935181707\n",
      "Loss in epoch 7400 is 0.0004865794617217034\n",
      "Loss in epoch 7410 is 0.0004856399027630687\n",
      "Loss in epoch 7420 is 0.00048472621710971\n",
      "Loss in epoch 7430 is 0.0004838117747567594\n",
      "Loss in epoch 7440 is 0.00048289800179190934\n",
      "Loss in epoch 7450 is 0.0004820082103833556\n",
      "Loss in epoch 7460 is 0.00048110485658980906\n",
      "Loss in epoch 7470 is 0.00048018249799497426\n",
      "Loss in epoch 7480 is 0.0004792867985088378\n",
      "Loss in epoch 7490 is 0.00047838734462857246\n",
      "Loss in epoch 7500 is 0.0004774955741595477\n",
      "Loss in epoch 7510 is 0.00047660485142841935\n",
      "Loss in epoch 7520 is 0.0004757228016387671\n",
      "Loss in epoch 7530 is 0.0004748344363179058\n",
      "Loss in epoch 7540 is 0.0004739575961139053\n",
      "Loss in epoch 7550 is 0.0004730946384370327\n",
      "Loss in epoch 7560 is 0.00047220371197909117\n",
      "Loss in epoch 7570 is 0.0004713436064776033\n",
      "Loss in epoch 7580 is 0.00047046091640368104\n",
      "Loss in epoch 7590 is 0.0004695977841038257\n",
      "Loss in epoch 7600 is 0.00046873008250258863\n",
      "Loss in epoch 7610 is 0.0004678678815253079\n",
      "Loss in epoch 7620 is 0.000467015546746552\n",
      "Loss in epoch 7630 is 0.00046615631435997784\n",
      "Loss in epoch 7640 is 0.0004653065698221326\n",
      "Loss in epoch 7650 is 0.0004644573200494051\n",
      "Loss in epoch 7660 is 0.0004636100784409791\n",
      "Loss in epoch 7670 is 0.0004627692105714232\n",
      "Loss in epoch 7680 is 0.0004619426326826215\n",
      "Loss in epoch 7690 is 0.0004610950709320605\n",
      "Loss in epoch 7700 is 0.00046025621122680604\n",
      "Loss in epoch 7710 is 0.000459426490124315\n",
      "Loss in epoch 7720 is 0.00045859726378694177\n",
      "Loss in epoch 7730 is 0.00045777138439007103\n",
      "Loss in epoch 7740 is 0.00045694629079662263\n",
      "Loss in epoch 7750 is 0.00045612710528075695\n",
      "Loss in epoch 7760 is 0.0004553097242023796\n",
      "Loss in epoch 7770 is 0.0004544912662822753\n",
      "Loss in epoch 7780 is 0.00045368229621089995\n",
      "Loss in epoch 7790 is 0.0004528684075921774\n",
      "Loss in epoch 7800 is 0.000452062493423\n",
      "Loss in epoch 7810 is 0.0004512583836913109\n",
      "Loss in epoch 7820 is 0.0004504555254243314\n",
      "Loss in epoch 7830 is 0.00044965557754039764\n",
      "Loss in epoch 7840 is 0.0004488592385314405\n",
      "Loss in epoch 7850 is 0.00044806450023315847\n",
      "Loss in epoch 7860 is 0.00044728454668074846\n",
      "Loss in epoch 7870 is 0.0004464830562938005\n",
      "Loss in epoch 7880 is 0.0004456973110791296\n",
      "Loss in epoch 7890 is 0.00044491238077171147\n",
      "Loss in epoch 7900 is 0.00044414159492589533\n",
      "Loss in epoch 7910 is 0.0004433526482898742\n",
      "Loss in epoch 7920 is 0.0004425852675922215\n",
      "Loss in epoch 7930 is 0.00044179780525155365\n",
      "Loss in epoch 7940 is 0.0004410248948261142\n",
      "Loss in epoch 7950 is 0.00044025704846717417\n",
      "Loss in epoch 7960 is 0.000439489318523556\n",
      "Loss in epoch 7970 is 0.0004387242370285094\n",
      "Loss in epoch 7980 is 0.00043796139652840793\n",
      "Loss in epoch 7990 is 0.00043721325346268713\n",
      "Loss in epoch 8000 is 0.00043644531979225576\n",
      "Loss in epoch 8010 is 0.00043568946421146393\n",
      "Loss in epoch 8020 is 0.0004349376540631056\n",
      "Loss in epoch 8030 is 0.0004341823805589229\n",
      "Loss in epoch 8040 is 0.0004334375844337046\n",
      "Loss in epoch 8050 is 0.00043269078014418483\n",
      "Loss in epoch 8060 is 0.00043194639147259295\n",
      "Loss in epoch 8070 is 0.000431204418418929\n",
      "Loss in epoch 8080 is 0.0004304712638258934\n",
      "Loss in epoch 8090 is 0.000429726205766201\n",
      "Loss in epoch 8100 is 0.0004289839998818934\n",
      "Loss in epoch 8110 is 0.000428245693910867\n",
      "Loss in epoch 8120 is 0.00042750732973217964\n",
      "Loss in epoch 8130 is 0.00042677472811192274\n",
      "Loss in epoch 8140 is 0.0004260425048414618\n",
      "Loss in epoch 8150 is 0.00042531132930889726\n",
      "Loss in epoch 8160 is 0.00042458437383174896\n",
      "Loss in epoch 8170 is 0.0004238594847265631\n",
      "Loss in epoch 8180 is 0.0004231364873703569\n",
      "Loss in epoch 8190 is 0.00042241616756655276\n",
      "Loss in epoch 8200 is 0.0004216921515762806\n",
      "Loss in epoch 8210 is 0.0004209780308883637\n",
      "Loss in epoch 8220 is 0.00042027534800581634\n",
      "Loss in epoch 8230 is 0.00041955136111937463\n",
      "Loss in epoch 8240 is 0.0004188415186945349\n",
      "Loss in epoch 8250 is 0.00041814317228272557\n",
      "Loss in epoch 8260 is 0.00041742780013009906\n",
      "Loss in epoch 8270 is 0.00041672642691992223\n",
      "Loss in epoch 8280 is 0.00041602630517445505\n",
      "Loss in epoch 8290 is 0.000415335496654734\n",
      "Loss in epoch 8300 is 0.0004146317660342902\n",
      "Loss in epoch 8310 is 0.0004139367665629834\n",
      "Loss in epoch 8320 is 0.0004132442409172654\n",
      "Loss in epoch 8330 is 0.0004125563136767596\n",
      "Loss in epoch 8340 is 0.0004118657379876822\n",
      "Loss in epoch 8350 is 0.00041118045919574797\n",
      "Loss in epoch 8360 is 0.00041049678111448884\n",
      "Loss in epoch 8370 is 0.0004098166828043759\n",
      "Loss in epoch 8380 is 0.0004091354494448751\n",
      "Loss in epoch 8390 is 0.0004084608517587185\n",
      "Loss in epoch 8400 is 0.0004077858757227659\n",
      "Loss in epoch 8410 is 0.00040711331530474126\n",
      "Loss in epoch 8420 is 0.00040644253022037446\n",
      "Loss in epoch 8430 is 0.00040577116305939853\n",
      "Loss in epoch 8440 is 0.00040510654798708856\n",
      "Loss in epoch 8450 is 0.00040443925536237657\n",
      "Loss in epoch 8460 is 0.00040378759149461985\n",
      "Loss in epoch 8470 is 0.00040311808697879314\n",
      "Loss in epoch 8480 is 0.00040245652780868113\n",
      "Loss in epoch 8490 is 0.0004018018371425569\n",
      "Loss in epoch 8500 is 0.000401142577175051\n",
      "Loss in epoch 8510 is 0.0004004918155260384\n",
      "Loss in epoch 8520 is 0.00039983823080547154\n",
      "Loss in epoch 8530 is 0.00039918956463225186\n",
      "Loss in epoch 8540 is 0.00039854279020801187\n",
      "Loss in epoch 8550 is 0.0003978955210186541\n",
      "Loss in epoch 8560 is 0.0003972536651417613\n",
      "Loss in epoch 8570 is 0.0003966117510572076\n",
      "Loss in epoch 8580 is 0.00039597024442628026\n",
      "Loss in epoch 8590 is 0.00039533324888907373\n",
      "Loss in epoch 8600 is 0.0003946981451008469\n",
      "Loss in epoch 8610 is 0.0003940636815968901\n",
      "Loss in epoch 8620 is 0.00039342910167761147\n",
      "Loss in epoch 8630 is 0.000392800138797611\n",
      "Loss in epoch 8640 is 0.0003921707393601537\n",
      "Loss in epoch 8650 is 0.00039154410478658974\n",
      "Loss in epoch 8660 is 0.00039092841325327754\n",
      "Loss in epoch 8670 is 0.0003902990138158202\n",
      "Loss in epoch 8680 is 0.00038967811269685626\n",
      "Loss in epoch 8690 is 0.00038905616383999586\n",
      "Loss in epoch 8700 is 0.0003884401230607182\n",
      "Loss in epoch 8710 is 0.00038782518822699785\n",
      "Loss in epoch 8720 is 0.0003872103407047689\n",
      "Loss in epoch 8730 is 0.0003866070182994008\n",
      "Loss in epoch 8740 is 0.0003859882417600602\n",
      "Loss in epoch 8750 is 0.00038537883665412664\n",
      "Loss in epoch 8760 is 0.0003847819461952895\n",
      "Loss in epoch 8770 is 0.000384168786695227\n",
      "Loss in epoch 8780 is 0.00038356430013664067\n",
      "Loss in epoch 8790 is 0.00038297128048725426\n",
      "Loss in epoch 8800 is 0.0003823616716545075\n",
      "Loss in epoch 8810 is 0.0003817638789769262\n",
      "Loss in epoch 8820 is 0.0003811763890553266\n",
      "Loss in epoch 8830 is 0.00038057254278101027\n",
      "Loss in epoch 8840 is 0.00037997812614776194\n",
      "Loss in epoch 8850 is 0.00037939645699225366\n",
      "Loss in epoch 8860 is 0.00037879685987718403\n",
      "Loss in epoch 8870 is 0.00037820881698280573\n",
      "Loss in epoch 8880 is 0.00037762237479910254\n",
      "Loss in epoch 8890 is 0.00037703680573031306\n",
      "Loss in epoch 8900 is 0.00037645260454155505\n",
      "Loss in epoch 8910 is 0.0003758718376047909\n",
      "Loss in epoch 8920 is 0.0003753027704078704\n",
      "Loss in epoch 8930 is 0.0003747143782675266\n",
      "Loss in epoch 8940 is 0.000374138675397262\n",
      "Loss in epoch 8950 is 0.00037356297252699733\n",
      "Loss in epoch 8960 is 0.0003729892778210342\n",
      "Loss in epoch 8970 is 0.00037241869722492993\n",
      "Loss in epoch 8980 is 0.00037184800021350384\n",
      "Loss in epoch 8990 is 0.00037127998075447977\n",
      "Loss in epoch 9000 is 0.0003707116120494902\n",
      "Loss in epoch 9010 is 0.00037014903500676155\n",
      "Loss in epoch 9020 is 0.00036958151031285524\n",
      "Loss in epoch 9030 is 0.000369019981008023\n",
      "Loss in epoch 9040 is 0.00036845862632617354\n",
      "Loss in epoch 9050 is 0.00036789869773201644\n",
      "Loss in epoch 9060 is 0.0003673509636428207\n",
      "Loss in epoch 9070 is 0.00036679382901638746\n",
      "Loss in epoch 9080 is 0.00036623241612687707\n",
      "Loss in epoch 9090 is 0.0003656790067907423\n",
      "Loss in epoch 9100 is 0.00036513590021058917\n",
      "Loss in epoch 9110 is 0.000364576029824093\n",
      "Loss in epoch 9120 is 0.00036402593832463026\n",
      "Loss in epoch 9130 is 0.0003634802415035665\n",
      "Loss in epoch 9140 is 0.0003629334387369454\n",
      "Loss in epoch 9150 is 0.00036238718894310296\n",
      "Loss in epoch 9160 is 0.0003618478076532483\n",
      "Loss in epoch 9170 is 0.000361305515980348\n",
      "Loss in epoch 9180 is 0.00036076660035178065\n",
      "Loss in epoch 9190 is 0.0003602292272262275\n",
      "Loss in epoch 9200 is 0.00035969121381640434\n",
      "Loss in epoch 9210 is 0.000359154975740239\n",
      "Loss in epoch 9220 is 0.0003586190869100392\n",
      "Loss in epoch 9230 is 0.00035808930988423526\n",
      "Loss in epoch 9240 is 0.00035755810677073896\n",
      "Loss in epoch 9250 is 0.00035702824243344367\n",
      "Loss in epoch 9260 is 0.0003564957878552377\n",
      "Loss in epoch 9270 is 0.0003559680772013962\n",
      "Loss in epoch 9280 is 0.00035544318961910903\n",
      "Loss in epoch 9290 is 0.00035492662573233247\n",
      "Loss in epoch 9300 is 0.0003543943166732788\n",
      "Loss in epoch 9310 is 0.0003538729506544769\n",
      "Loss in epoch 9320 is 0.00035335245775058866\n",
      "Loss in epoch 9330 is 0.00035283376928418875\n",
      "Loss in epoch 9340 is 0.0003523219784256071\n",
      "Loss in epoch 9350 is 0.0003518003795761615\n",
      "Loss in epoch 9360 is 0.00035128803574480116\n",
      "Loss in epoch 9370 is 0.00035077292704954743\n",
      "Loss in epoch 9380 is 0.0003502614563331008\n",
      "Loss in epoch 9390 is 0.00034974896698258817\n",
      "Loss in epoch 9400 is 0.00034923950443044305\n",
      "Loss in epoch 9410 is 0.0003487298672553152\n",
      "Loss in epoch 9420 is 0.00034822351881302893\n",
      "Loss in epoch 9430 is 0.000347718974808231\n",
      "Loss in epoch 9440 is 0.0003472141397651285\n",
      "Loss in epoch 9450 is 0.00034671329194679856\n",
      "Loss in epoch 9460 is 0.00034621282247826457\n",
      "Loss in epoch 9470 is 0.00034571188734844327\n",
      "Loss in epoch 9480 is 0.00034521915949881077\n",
      "Loss in epoch 9490 is 0.0003447206981945783\n",
      "Loss in epoch 9500 is 0.00034421758027747273\n",
      "Loss in epoch 9510 is 0.00034372470690868795\n",
      "Loss in epoch 9520 is 0.00034323055297136307\n",
      "Loss in epoch 9530 is 0.0003427351184654981\n",
      "Loss in epoch 9540 is 0.00034225417766720057\n",
      "Loss in epoch 9550 is 0.0003417568514123559\n",
      "Loss in epoch 9560 is 0.00034127579419873655\n",
      "Loss in epoch 9570 is 0.0003407831536605954\n",
      "Loss in epoch 9580 is 0.0003402962174732238\n",
      "Loss in epoch 9590 is 0.00033981219166889787\n",
      "Loss in epoch 9600 is 0.00033932726364582777\n",
      "Loss in epoch 9610 is 0.0003388459444977343\n",
      "Loss in epoch 9620 is 0.00033836421789601445\n",
      "Loss in epoch 9630 is 0.00033788656583055854\n",
      "Loss in epoch 9640 is 0.00033740574144758284\n",
      "Loss in epoch 9650 is 0.0003369242767803371\n",
      "Loss in epoch 9660 is 0.000336445082211867\n",
      "Loss in epoch 9670 is 0.00033596454886719584\n",
      "Loss in epoch 9680 is 0.0003354883228894323\n",
      "Loss in epoch 9690 is 0.0003350116603542119\n",
      "Loss in epoch 9700 is 0.0003345388686284423\n",
      "Loss in epoch 9710 is 0.000334063166519627\n",
      "Loss in epoch 9720 is 0.0003335885121487081\n",
      "Loss in epoch 9730 is 0.0003331208718009293\n",
      "Loss in epoch 9740 is 0.00033265032107010484\n",
      "Loss in epoch 9750 is 0.00033217930467799306\n",
      "Loss in epoch 9760 is 0.0003317153896205127\n",
      "Loss in epoch 9770 is 0.00033124545007012784\n",
      "Loss in epoch 9780 is 0.00033077754778787494\n",
      "Loss in epoch 9790 is 0.0003303195699118078\n",
      "Loss in epoch 9800 is 0.00032984791323542595\n",
      "Loss in epoch 9810 is 0.00032938687945716083\n",
      "Loss in epoch 9820 is 0.0003289227024652064\n",
      "Loss in epoch 9830 is 0.00032846038811840117\n",
      "Loss in epoch 9840 is 0.0003280006058048457\n",
      "Loss in epoch 9850 is 0.00032754530548118055\n",
      "Loss in epoch 9860 is 0.0003270840097684413\n",
      "Loss in epoch 9870 is 0.0003266281564719975\n",
      "Loss in epoch 9880 is 0.0003261737583670765\n",
      "Loss in epoch 9890 is 0.0003257198550272733\n",
      "Loss in epoch 9900 is 0.0003252640017308295\n",
      "Loss in epoch 9910 is 0.00032481536618433893\n",
      "Loss in epoch 9920 is 0.00032436230685561895\n",
      "Loss in epoch 9930 is 0.0003239117795601487\n",
      "Loss in epoch 9940 is 0.00032346899388357997\n",
      "Loss in epoch 9950 is 0.0003230180009268224\n",
      "Loss in epoch 9960 is 0.0003225728287361562\n",
      "Loss in epoch 9970 is 0.0003221352817490697\n",
      "Loss in epoch 9980 is 0.0003216887707822025\n",
      "Loss in epoch 9990 is 0.00032124578137882054\n",
      "Done training \n",
      "Accuarcy is 97.5%\n"
     ]
    },
    {
     "data": {
      "image/png": "[encoded data removed]",
      "text/plain": [
       "<Figure size 640x480 with 1 Axes>"
      ]
     },
     "metadata": {},
     "output_type": "display_data"
    }
   ],
   "source": [
    "## NN \n",
    "import torch\n",
    "import torch.nn.functional as F\n",
    "import torch.nn as nn\n",
    "\n",
    "torch.manual_seed(1)\n",
    "\n",
    "if(torch.cuda.is_available()):\n",
    "    processing_chip = \"cuda:0\"\n",
    "    print(f\"{torch.cuda.get_device_name(0)} available\")\n",
    "else:\n",
    "    processing_chip = \"cpu\"\n",
    "    print(\"No GPU available\")\n",
    "\n",
    "device = torch.device(processing_chip)\n",
    "\n",
    "train_x = torch.Tensor(X_train.values).float().to(device)\n",
    "test_x = torch.Tensor(X_test.values).float().to(device)\n",
    "train_y =torch.Tensor(y_train.values).long().to(device)\n",
    "test_y = torch.Tensor(y_test.values).long().to(device)\n",
    "\n",
    "class Net(nn.Module):\n",
    "    def __init__(self):\n",
    "        super(Net, self).__init__()\n",
    "        self.hidden = nn.Linear(64, 32)\n",
    "        self.hidden2 = nn.Linear(32, 16)\n",
    "        self.output = nn.Linear(16, 10)\n",
    "\n",
    "    def forward(self, x):\n",
    "        z1 = self.hidden(x)\n",
    "        z2 = F.relu(z1)\n",
    "        z3 = self.hidden2(z2)\n",
    "        z4 = F.relu(z3)\n",
    "        z5 = self.output(z4)  # no softmax. see documentation of CrossEntropyLoss() method\n",
    "        return z5\n",
    "\n",
    "net = Net().to(device)\n",
    "\n",
    "# define the parameters for training\n",
    "no_epochs = 10000\n",
    "learning_rate = 0.04\n",
    "loss_func = nn.CrossEntropyLoss()  # applies softmax() internally\n",
    "optimizer = torch.optim.SGD(net.parameters(), lr=learning_rate)\n",
    "\n",
    "print(\"\\nStarting training \")\n",
    "\n",
    "train_losses = []\n",
    "for epoch in range(0, no_epochs):\n",
    "\n",
    "    optimizer.zero_grad()  # set gradients to zero \n",
    "    predictions = net(train_x)  # predict on the training data, this calls internally net.forward() \n",
    "\n",
    "    loss = loss_func(predictions, train_y)  # compute loss between prediction and true labels\n",
    "    loss.backward() # calculate the gradients for every weight\n",
    "    optimizer.step() # do one step of gradient descent\n",
    "\n",
    "    train_losses.append(loss.item())\n",
    "\n",
    "    if epoch % 10 == 0:\n",
    "        print(f\"Loss in epoch {epoch} is {loss.item()}\")\n",
    "\n",
    "print(\"Done training \")\n",
    "\n",
    "import matplotlib.pyplot as plt\n",
    "\n",
    "fig = plt.figure()\n",
    "plt.plot(range(0, no_epochs), train_losses, color='blue')\n",
    "plt.legend(['Train Loss'], loc='upper right')\n",
    "plt.xlabel('number of epochs')\n",
    "plt.ylabel('loss')\n",
    "\n",
    "# evalucation\n",
    "predictions = net(test_x)\n",
    "predicted = torch.argmax(predictions.data, 1) # get the class with highest score\n",
    "correct = (predicted == test_y).sum().item() # compare predicted class with real class\n",
    "print(f\"Accuarcy is {100. * correct / len(test_x)}%\")"
   ]
  }
 ],
 "metadata": {
  "kernelspec": {
   "display_name": "Python 3 (ipykernel)",
   "language": "python",
   "name": "python3"
  },
  "language_info": {
   "codemirror_mode": {
    "name": "ipython",
    "version": 3
   },
   "file_extension": ".py",
   "mimetype": "text/x-python",
   "name": "python",
   "nbconvert_exporter": "python",
   "pygments_lexer": "ipython3",
   "version": "3.8.18"
  }
 },
 "nbformat": 4,
 "nbformat_minor": 2
}
