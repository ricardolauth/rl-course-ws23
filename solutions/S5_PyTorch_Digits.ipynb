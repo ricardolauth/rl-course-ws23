{
 "cells": [
  {
   "cell_type": "markdown",
   "metadata": {
    "id": "TOBUyiZq3d2u"
   },
   "source": [
    "# Bonus Task: PyTorch Digits Example\n",
    "This example classifies the digit dataset using a neural net."
   ]
  },
  {
   "cell_type": "markdown",
   "metadata": {
    "id": "LhdvnPe4Q-pO"
   },
   "source": [
    "### 0. Preamble"
   ]
  },
  {
   "cell_type": "code",
   "execution_count": 1,
   "metadata": {
    "id": "K8-YOrlu3w8z"
   },
   "outputs": [],
   "source": [
    "import numpy as np\n",
    "import torch\n",
    "import torch.nn.functional as F\n",
    "import torch.nn as nn\n",
    "import matplotlib.pyplot as plt\n",
    "import pandas as pd\n",
    "\n",
    "torch.manual_seed(1)\n",
    "np.random.seed(1)"
   ]
  },
  {
   "cell_type": "code",
   "execution_count": 2,
   "metadata": {
    "colab": {
     "base_uri": "https://localhost:8080/"
    },
    "id": "S3DgoJj735Gr",
    "outputId": "9b0d4e20-17af-4ae0-c296-d33b6d629bfc"
   },
   "outputs": [
    {
     "name": "stdout",
     "output_type": "stream",
     "text": [
      "No GPU available\n"
     ]
    },
    {
     "data": {
      "text/plain": [
       "device(type='cpu')"
      ]
     },
     "execution_count": 2,
     "metadata": {},
     "output_type": "execute_result"
    }
   ],
   "source": [
    "if(torch.cuda.is_available()):\n",
    "  processing_chip = \"cuda:0\"\n",
    "  print(f\"{torch.cuda.get_device_name(0)} available\")\n",
    "else:\n",
    "  processing_chip = \"cpu\"\n",
    "  print(\"No GPU available\")\n",
    "\n",
    "device = torch.device(processing_chip)\n",
    "device"
   ]
  },
  {
   "cell_type": "markdown",
   "metadata": {
    "id": "Y8EgmXccAr9b"
   },
   "source": [
    "### 1. Data Preperation"
   ]
  },
  {
   "cell_type": "code",
   "execution_count": 3,
   "metadata": {
    "id": "DZoYUZfQ_TU8"
   },
   "outputs": [],
   "source": [
    "data = pd.read_csv(\"../data/digits.csv\")\n",
    "X = data.drop([\"label\"], axis=1).values\n",
    "y = data[\"label\"].values"
   ]
  },
  {
   "cell_type": "code",
   "execution_count": 4,
   "metadata": {
    "id": "KfY2iF0WTlWu"
   },
   "outputs": [],
   "source": [
    "from sklearn.model_selection import train_test_split\n",
    "train_X, test_X, train_y, test_y = train_test_split(X, y, test_size=0.2, random_state=0)"
   ]
  },
  {
   "cell_type": "code",
   "execution_count": 5,
   "metadata": {
    "id": "-OI44o3i-grB"
   },
   "outputs": [],
   "source": [
    "train_x = torch.Tensor(train_X).float().to(device)\n",
    "test_x = torch.Tensor(test_X).float().to(device)\n",
    "train_y = torch.Tensor(train_y).long().to(device)\n",
    "test_y = torch.Tensor(test_y).long().to(device)"
   ]
  },
  {
   "cell_type": "markdown",
   "metadata": {
    "id": "5wcTXnyu7NWK"
   },
   "source": [
    "### 2. Model definition \n"
   ]
  },
  {
   "cell_type": "code",
   "execution_count": 6,
   "metadata": {
    "id": "_W47oZ534E-1"
   },
   "outputs": [],
   "source": [
    "class Net(nn.Module):\n",
    "  def __init__(self):\n",
    "    super(Net, self).__init__()\n",
    "    self.hidden1 = nn.Linear(64, 5)\n",
    "    self.hidden2 = nn.Linear(5, 7)  \n",
    "    self.output = nn.Linear(7, 10)\n",
    "\n",
    "  def forward(self, x):\n",
    "    z = F.relu(self.hidden1(x))\n",
    "    z = F.relu(self.hidden2(z))\n",
    "    z = self.output(z)  # no softmax. see CrossEntropyLoss() \n",
    "    return z"
   ]
  },
  {
   "cell_type": "markdown",
   "metadata": {
    "id": "gJyy5JG_84vs"
   },
   "source": [
    "### 3. Model Training"
   ]
  },
  {
   "cell_type": "code",
   "execution_count": 7,
   "metadata": {
    "colab": {
     "base_uri": "https://localhost:8080/"
    },
    "id": "7RQHZvvyAFzV",
    "outputId": "a33daa31-1fd4-4c69-c64b-7c0bf6081391"
   },
   "outputs": [
    {
     "name": "stdout",
     "output_type": "stream",
     "text": [
      "\n",
      "Starting training \n",
      "Loss in epoch 0 is 2.483743906021118\n",
      "Loss in epoch 10 is 2.1807913780212402\n",
      "Loss in epoch 20 is 2.01027774810791\n",
      "Loss in epoch 30 is 1.8581128120422363\n",
      "Loss in epoch 40 is 1.6804239749908447\n",
      "Loss in epoch 50 is 1.536109209060669\n",
      "Loss in epoch 60 is 1.4206674098968506\n",
      "Loss in epoch 70 is 1.3116875886917114\n",
      "Loss in epoch 80 is 1.250049352645874\n",
      "Loss in epoch 90 is 1.159900426864624\n",
      "Loss in epoch 100 is 1.100775122642517\n",
      "Loss in epoch 110 is 1.0240031480789185\n",
      "Loss in epoch 120 is 0.9701412916183472\n",
      "Loss in epoch 130 is 0.8882776498794556\n",
      "Loss in epoch 140 is 0.844831645488739\n",
      "Loss in epoch 150 is 0.7773175835609436\n",
      "Loss in epoch 160 is 0.7421870827674866\n",
      "Loss in epoch 170 is 0.6767224073410034\n",
      "Loss in epoch 180 is 0.7762898802757263\n",
      "Loss in epoch 190 is 0.5730279684066772\n",
      "Loss in epoch 200 is 0.5403565764427185\n",
      "Loss in epoch 210 is 0.5515636801719666\n",
      "Loss in epoch 220 is 0.5390214920043945\n",
      "Loss in epoch 230 is 0.48912903666496277\n",
      "Loss in epoch 240 is 0.47142523527145386\n",
      "Loss in epoch 250 is 0.4568473696708679\n",
      "Loss in epoch 260 is 0.4438084065914154\n",
      "Loss in epoch 270 is 0.43192848563194275\n",
      "Loss in epoch 280 is 0.4235820770263672\n",
      "Loss in epoch 290 is 0.43087226152420044\n",
      "Loss in epoch 300 is 0.6865149140357971\n",
      "Loss in epoch 310 is 0.40304329991340637\n",
      "Loss in epoch 320 is 0.38926053047180176\n",
      "Loss in epoch 330 is 0.3792020082473755\n",
      "Loss in epoch 340 is 0.37028592824935913\n",
      "Loss in epoch 350 is 0.36206215620040894\n",
      "Loss in epoch 360 is 0.3542522192001343\n",
      "Loss in epoch 370 is 0.3469390869140625\n",
      "Loss in epoch 380 is 0.3413216471672058\n",
      "Loss in epoch 390 is 0.3450142741203308\n",
      "Loss in epoch 400 is 0.4550839066505432\n",
      "Loss in epoch 410 is 0.36455830931663513\n",
      "Loss in epoch 420 is 0.3246023654937744\n",
      "Loss in epoch 430 is 0.312043160200119\n",
      "Loss in epoch 440 is 0.3038899302482605\n",
      "Loss in epoch 450 is 0.29684436321258545\n",
      "Loss in epoch 460 is 0.2904471457004547\n",
      "Loss in epoch 470 is 0.28490784764289856\n",
      "Loss in epoch 480 is 0.2799333333969116\n",
      "Loss in epoch 490 is 0.27553582191467285\n",
      "Done training \n"
     ]
    }
   ],
   "source": [
    "# create network, move it to device and set it to training-mode\n",
    "net = Net().to(device)\n",
    "net.train()\n",
    "\n",
    "# define the parameters for training\n",
    "no_epochs = 500\n",
    "learning_rate = 0.04\n",
    "loss_func = nn.CrossEntropyLoss()  # applies softmax() internally\n",
    "optimizer = torch.optim.SGD(net.parameters(), lr=learning_rate)\n",
    "\n",
    "print(\"\\nStarting training \")\n",
    "\n",
    "train_losses = []\n",
    "for epoch in range(0, no_epochs):\n",
    "\n",
    "  optimizer.zero_grad()\n",
    "  output = net(train_x)\n",
    "\n",
    "  loss = loss_func(output, train_y)\n",
    "  loss.backward()\n",
    "  optimizer.step()\n",
    "\n",
    "  train_losses.append(loss.item())\n",
    "  \n",
    "  if epoch % 10 == 0:\n",
    "    print(f\"Loss in epoch {epoch} is {loss.item()}\")\n",
    "\n",
    "print(\"Done training \")"
   ]
  },
  {
   "cell_type": "code",
   "execution_count": 8,
   "metadata": {
    "colab": {
     "base_uri": "https://localhost:8080/",
     "height": 296
    },
    "id": "fMPxG1i873W7",
    "outputId": "e0816932-2163-4a74-da39-dac430b0e04a"
   },
   "outputs": [
    {
     "data": {
      "text/plain": [
       "Text(0, 0.5, 'loss')"
      ]
     },
     "execution_count": 8,
     "metadata": {},
     "output_type": "execute_result"
    },
    {
     "data": {
      "image/png": "[encoded data removed]",
      "text/plain": [
       "<Figure size 432x288 with 1 Axes>"
      ]
     },
     "metadata": {
      "needs_background": "light"
     },
     "output_type": "display_data"
    }
   ],
   "source": [
    "  fig = plt.figure()\n",
    "  plt.plot(range(0, no_epochs), train_losses, color='blue')\n",
    "  plt.legend(['Train Loss'], loc='upper right')\n",
    "  plt.xlabel('number of epochs')\n",
    "  plt.ylabel('loss')"
   ]
  },
  {
   "cell_type": "markdown",
   "metadata": {
    "id": "cN8btFSP3yU2"
   },
   "source": [
    "### 4. Model Evaluation"
   ]
  },
  {
   "cell_type": "code",
   "execution_count": 9,
   "metadata": {
    "colab": {
     "base_uri": "https://localhost:8080/"
    },
    "id": "wsmVfo49Kytp",
    "outputId": "b86eeda5-8413-441f-ae90-0283a35c0461"
   },
   "outputs": [
    {
     "name": "stdout",
     "output_type": "stream",
     "text": [
      "Accuarcy is 89.44444444444444%\n"
     ]
    }
   ],
   "source": [
    "net.eval() # set network to evaluation mode\n",
    "y_pred = net(test_x)\n",
    "predicted = torch.argmax(y_pred.data, 1)\n",
    "correct = (predicted == test_y).sum().item()\n",
    "print(f\"Accuarcy is {100. * correct / len(test_x)}%\")"
   ]
  },
  {
   "cell_type": "code",
   "execution_count": null,
   "metadata": {
    "id": "sB9CFaSTWsNG"
   },
   "outputs": [],
   "source": []
  }
 ],
 "metadata": {
  "colab": {
   "authorship_tag": "ABX9TyOemi/Z0D1NXeF6Da4BsrOD",
   "collapsed_sections": [],
   "include_colab_link": true,
   "name": "4_PyTorch_Example.ipynb",
   "provenance": []
  },
  "kernelspec": {
   "display_name": "Python 3",
   "language": "python",
   "name": "python3"
  },
  "language_info": {
   "codemirror_mode": {
    "name": "ipython",
    "version": 3
   },
   "file_extension": ".py",
   "mimetype": "text/x-python",
   "name": "python",
   "nbconvert_exporter": "python",
   "pygments_lexer": "ipython3",
   "version": "3.8.5"
  }
 },
 "nbformat": 4,
 "nbformat_minor": 1
}
