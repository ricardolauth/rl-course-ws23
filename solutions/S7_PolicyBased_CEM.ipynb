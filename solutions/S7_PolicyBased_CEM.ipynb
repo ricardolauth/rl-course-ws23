{
 "cells": [
  {
   "cell_type": "markdown",
   "metadata": {
    "id": "iCLrRFHSKl_5"
   },
   "source": [
    "# Lunar Lander with Cross-Entropy Method\n",
    "\n",
    "In this notebook we look at the lunar lander environment and solve it with the cross-entropy method."
   ]
  },
  {
   "cell_type": "code",
   "execution_count": 1,
   "metadata": {
    "colab": {
     "base_uri": "https://localhost:8080/"
    },
    "id": "96dExX1TKm2m",
    "outputId": "59a0cc23-613d-4378-8de6-2b4d280e9fa9"
   },
   "outputs": [],
   "source": [
    "#!pip3 install 'gymnasium[box2d]'"
   ]
  },
  {
   "cell_type": "code",
   "execution_count": 2,
   "metadata": {
    "id": "CZXskDwXKl_-"
   },
   "outputs": [],
   "source": [
    "import gymnasium as gym\n",
    "import numpy as np\n",
    "\n",
    "import torch\n",
    "import torch.nn as nn\n",
    "import torch.optim as optim\n",
    "import torch.nn.functional as F\n",
    "from torch.distributions import Categorical\n",
    "import matplotlib.pyplot as plt\n",
    "%matplotlib inline\n",
    "from collections import deque\n",
    "\n",
    "torch.manual_seed(1)\n",
    "np.random.seed(1)"
   ]
  },
  {
   "cell_type": "markdown",
   "metadata": {
    "id": "xhZ0fzBkKmAA"
   },
   "source": [
    "# Neural Network\n",
    "\n",
    "We define a simple neural network that generates the action scores based on a given state."
   ]
  },
  {
   "cell_type": "code",
   "execution_count": 3,
   "metadata": {
    "id": "vWQr7TZgKmAB"
   },
   "outputs": [],
   "source": [
    "class Net(nn.Module):\n",
    "    def __init__(self, obs_size, hidden_size, n_actions):\n",
    "        super(Net, self).__init__()\n",
    "        self.fc1 = nn.Linear(obs_size, hidden_size)\n",
    "        self.fc2 = nn.Linear(hidden_size, n_actions)\n",
    "        \n",
    "    def forward(self, x):\n",
    "        x = F.relu(self.fc1(x))\n",
    "        return self.fc2(x)"
   ]
  },
  {
   "cell_type": "markdown",
   "metadata": {
    "id": "6zFMlVViKmAE"
   },
   "source": [
    "# Generate Episodes\n",
    "\n",
    "We generate a batch of episodes and remember the traversed states, actions and rewards. To select the next action we use the output of the network. For this we first pass the scores through a softmax to get probabilites. In the second step we sampel from this distribution to get the next action to execute."
   ]
  },
  {
   "cell_type": "code",
   "execution_count": 4,
   "metadata": {
    "id": "AIiayltZKmAF"
   },
   "outputs": [],
   "source": [
    "def generate_batch(env, batch_size, t_max=5000):\n",
    "    \n",
    "    activation = nn.Softmax(dim=1)\n",
    "    batch_actions,batch_states, batch_rewards = [],[],[]\n",
    "    \n",
    "    for b in range(batch_size):\n",
    "        states, actions = [], []\n",
    "        total_reward = 0\n",
    "        s, _ = env.reset(seed=0)\n",
    "        for t in range(t_max):\n",
    "            \n",
    "            s_v = torch.FloatTensor([s])\n",
    "            act_probs_v = activation(net(s_v))\n",
    "            act_probs = act_probs_v.data.numpy()[0]\n",
    "            a = np.random.choice(len(act_probs), p=act_probs)\n",
    "\n",
    "            new_s, r, done, _, _ = env.step(a)\n",
    "\n",
    "            # record sessions like you did before\n",
    "            states.append(s)\n",
    "            actions.append(a)\n",
    "            total_reward += r\n",
    "\n",
    "            s = new_s\n",
    "            if done:\n",
    "                batch_actions.append(actions)\n",
    "                batch_states.append(states)\n",
    "                batch_rewards.append(total_reward)\n",
    "                break\n",
    "                \n",
    "    return batch_states, batch_actions, batch_rewards"
   ]
  },
  {
   "cell_type": "markdown",
   "metadata": {
    "id": "cvq2ZIvlKmAJ"
   },
   "source": [
    "# Training\n",
    "\n",
    "In the training step, we first use the neural network to generate a batch of episodes and then use the state-action pairs to improve the neural network."
   ]
  },
  {
   "cell_type": "code",
   "execution_count": 5,
   "metadata": {
    "colab": {
     "base_uri": "https://localhost:8080/"
    },
    "id": "pFUzEnaDKmAJ",
    "outputId": "a5344f76-e542-4566-808e-8864fcdd4f09"
   },
   "outputs": [
    {
     "name": "stderr",
     "output_type": "stream",
     "text": [
      "/var/folders/g4/qd5krtcd4bs0p2_c6rcbbb7c0000gn/T/ipykernel_64699/2392018301.py:12: UserWarning: Creating a tensor from a list of numpy.ndarrays is extremely slow. Please consider converting the list to a single numpy.ndarray with numpy.array() before converting to a tensor. (Triggered internally at /Users/runner/work/pytorch/pytorch/pytorch/torch/csrc/utils/tensor_new.cpp:264.)\n",
      "  s_v = torch.FloatTensor([s])\n"
     ]
    },
    {
     "name": "stdout",
     "output_type": "stream",
     "text": [
      "0: loss=1.359, reward_mean=-90.8\n",
      "1: loss=1.366, reward_mean=-107.0\n",
      "2: loss=1.372, reward_mean=-115.2\n",
      "3: loss=1.393, reward_mean=-105.3\n",
      "4: loss=1.377, reward_mean=-76.5\n",
      "5: loss=1.379, reward_mean=-62.9\n",
      "6: loss=1.182, reward_mean=-62.9\n",
      "7: loss=1.022, reward_mean=-53.6\n",
      "8: loss=0.995, reward_mean=-50.5\n",
      "9: loss=1.037, reward_mean=-87.2\n",
      "10: loss=0.998, reward_mean=-106.4\n",
      "11: loss=1.074, reward_mean=-95.6\n",
      "12: loss=1.088, reward_mean=-73.1\n",
      "13: loss=1.023, reward_mean=-83.6\n",
      "14: loss=0.960, reward_mean=-54.3\n",
      "15: loss=0.922, reward_mean=-13.5\n",
      "16: loss=1.013, reward_mean=10.9\n",
      "17: loss=0.944, reward_mean=30.3\n",
      "18: loss=0.982, reward_mean=39.7\n",
      "19: loss=1.006, reward_mean=50.0\n",
      "20: loss=0.894, reward_mean=46.2\n",
      "21: loss=0.907, reward_mean=56.2\n",
      "22: loss=0.902, reward_mean=49.9\n",
      "23: loss=0.824, reward_mean=51.0\n",
      "24: loss=0.865, reward_mean=50.6\n",
      "25: loss=0.893, reward_mean=50.0\n",
      "26: loss=0.788, reward_mean=50.1\n",
      "27: loss=0.878, reward_mean=51.1\n",
      "28: loss=0.872, reward_mean=59.1\n",
      "29: loss=0.797, reward_mean=58.1\n",
      "30: loss=0.718, reward_mean=57.5\n",
      "31: loss=0.811, reward_mean=61.4\n",
      "32: loss=0.738, reward_mean=61.8\n",
      "33: loss=0.808, reward_mean=59.0\n",
      "34: loss=0.857, reward_mean=58.6\n",
      "35: loss=0.779, reward_mean=63.4\n",
      "36: loss=0.771, reward_mean=57.4\n",
      "37: loss=0.849, reward_mean=60.1\n",
      "38: loss=0.780, reward_mean=59.7\n",
      "39: loss=0.890, reward_mean=65.3\n",
      "40: loss=0.777, reward_mean=63.8\n",
      "41: loss=0.941, reward_mean=66.4\n",
      "42: loss=0.908, reward_mean=65.6\n",
      "43: loss=0.807, reward_mean=58.4\n",
      "44: loss=0.774, reward_mean=67.1\n",
      "45: loss=0.769, reward_mean=68.6\n",
      "46: loss=0.755, reward_mean=67.1\n",
      "47: loss=0.828, reward_mean=68.2\n",
      "48: loss=0.727, reward_mean=69.8\n",
      "49: loss=0.629, reward_mean=70.0\n",
      "50: loss=0.844, reward_mean=67.5\n",
      "51: loss=0.676, reward_mean=67.9\n",
      "52: loss=0.745, reward_mean=66.8\n",
      "53: loss=0.829, reward_mean=65.8\n",
      "54: loss=0.741, reward_mean=67.5\n",
      "55: loss=0.714, reward_mean=66.5\n",
      "56: loss=0.715, reward_mean=71.9\n",
      "57: loss=0.751, reward_mean=69.6\n",
      "58: loss=0.804, reward_mean=71.5\n",
      "59: loss=0.701, reward_mean=72.4\n",
      "60: loss=0.765, reward_mean=70.3\n",
      "61: loss=0.614, reward_mean=68.3\n",
      "62: loss=0.741, reward_mean=69.0\n",
      "63: loss=0.797, reward_mean=71.0\n",
      "64: loss=0.750, reward_mean=69.9\n",
      "65: loss=0.695, reward_mean=67.7\n",
      "66: loss=0.690, reward_mean=68.7\n",
      "67: loss=0.654, reward_mean=71.8\n",
      "68: loss=0.565, reward_mean=74.4\n",
      "69: loss=0.917, reward_mean=69.9\n",
      "70: loss=0.766, reward_mean=68.7\n",
      "71: loss=0.765, reward_mean=71.4\n",
      "72: loss=0.678, reward_mean=73.6\n",
      "73: loss=0.725, reward_mean=75.2\n",
      "74: loss=0.714, reward_mean=74.2\n",
      "75: loss=0.697, reward_mean=75.6\n",
      "76: loss=0.772, reward_mean=74.8\n",
      "77: loss=0.629, reward_mean=70.5\n",
      "78: loss=0.537, reward_mean=69.8\n",
      "79: loss=0.640, reward_mean=75.3\n",
      "80: loss=0.671, reward_mean=76.9\n",
      "81: loss=0.791, reward_mean=74.3\n",
      "82: loss=0.682, reward_mean=77.5\n",
      "83: loss=0.586, reward_mean=72.9\n",
      "84: loss=0.691, reward_mean=70.4\n",
      "85: loss=0.653, reward_mean=76.6\n",
      "86: loss=0.686, reward_mean=88.9\n",
      "87: loss=0.539, reward_mean=102.7\n",
      "Environment has been successfullly completed!\n",
      "88: loss=0.627, reward_mean=112.8\n",
      "Environment has been successfullly completed!\n",
      "89: loss=0.606, reward_mean=162.9\n",
      "Environment has been successfullly completed!\n",
      "90: loss=0.622, reward_mean=183.7\n",
      "Environment has been successfullly completed!\n",
      "91: loss=0.662, reward_mean=210.9\n",
      "Environment has been successfullly completed!\n",
      "92: loss=0.553, reward_mean=165.2\n",
      "Environment has been successfullly completed!\n",
      "93: loss=0.591, reward_mean=146.7\n",
      "Environment has been successfullly completed!\n",
      "94: loss=0.582, reward_mean=132.2\n",
      "Environment has been successfullly completed!\n",
      "95: loss=0.453, reward_mean=129.1\n",
      "Environment has been successfullly completed!\n",
      "96: loss=0.352, reward_mean=176.1\n",
      "Environment has been successfullly completed!\n",
      "97: loss=0.677, reward_mean=155.7\n",
      "Environment has been successfullly completed!\n",
      "98: loss=0.254, reward_mean=111.3\n",
      "Environment has been successfullly completed!\n",
      "99: loss=0.312, reward_mean=160.8\n",
      "Environment has been successfullly completed!\n"
     ]
    }
   ],
   "source": [
    "batch_size = 100\n",
    "session_size = 100\n",
    "percentile = 80\n",
    "hidden_size = 200\n",
    "completion_score = 100\n",
    "learning_rate = 0.01\n",
    "\n",
    "env = gym.make(\"LunarLander-v2\")\n",
    "n_states = env.observation_space.shape[0]\n",
    "n_actions = env.action_space.n\n",
    "\n",
    "net = Net(n_states, hidden_size, n_actions)\n",
    "objective = nn.CrossEntropyLoss()\n",
    "optimizer = optim.Adam(params=net.parameters(), lr=learning_rate)\n",
    "\n",
    "for i in range(session_size):\n",
    "    \n",
    "    # generate new episodes\n",
    "    states, actions, rewards = generate_batch(env, batch_size, t_max=500)\n",
    "    \n",
    "    threshold = np.percentile(rewards, 80)\n",
    "    \n",
    "    # train on the states using actions as targets\n",
    "    for s_i in range(len(states)):\n",
    "        if rewards[s_i] < threshold: # skip this iteration if rewards are too low\n",
    "            continue\n",
    "        optimizer.zero_grad()\n",
    "        tensor_states = torch.FloatTensor(states[s_i])\n",
    "        tensor_actions = torch.LongTensor(actions[s_i])\n",
    "        action_scores_v = net(tensor_states)\n",
    "        loss_v = objective(action_scores_v, tensor_actions)\n",
    "        loss_v.backward()\n",
    "        optimizer.step()\n",
    "\n",
    "    #show results\n",
    "    mean_reward = np.mean(rewards)\n",
    "    print(\"%d: loss=%.3f, reward_mean=%.1f\" % (\n",
    "            i, loss_v.item(), mean_reward))\n",
    "    \n",
    "    #check if \n",
    "    if np.mean(rewards)> completion_score:\n",
    "        print(\"Environment has been successfullly completed!\")"
   ]
  }
 ],
 "metadata": {
  "colab": {
   "collapsed_sections": [],
   "include_colab_link": true,
   "name": "6_LunarLander_PolicyBased.ipynb",
   "provenance": []
  },
  "kernelspec": {
   "display_name": "Python 3 (ipykernel)",
   "language": "python",
   "name": "python3"
  },
  "language_info": {
   "codemirror_mode": {
    "name": "ipython",
    "version": 3
   },
   "file_extension": ".py",
   "mimetype": "text/x-python",
   "name": "python",
   "nbconvert_exporter": "python",
   "pygments_lexer": "ipython3",
   "version": "3.8.18"
  }
 },
 "nbformat": 4,
 "nbformat_minor": 4
}
